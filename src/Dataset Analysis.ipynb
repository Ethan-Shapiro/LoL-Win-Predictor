{
 "cells": [
  {
   "cell_type": "code",
   "execution_count": 1,
   "metadata": {},
   "outputs": [],
   "source": [
    "import pandas as pd\n",
    "\n",
    "# Data visualization\n",
    "import seaborn as sns\n",
    "import matplotlib.pyplot as plt\n",
    "\n",
    "# Data preprocessing\n",
    "from sklearn.preprocessing import MinMaxScaler\n",
    "from sklearn.model_selection import train_test_split\n",
    "\n",
    "# Machine Learning Packages\n",
    "from sklearn.ensemble import RandomForestClassifier, AdaBoostClassifier, ExtraTreesClassifier\n",
    "from sklearn.model_selection import GridSearchCV\n",
    "from sklearn.linear_model import LogisticRegressionCV\n",
    "from sklearn.naive_bayes import GaussianNB, CategoricalNB\n",
    "from sklearn.neighbors import KNeighborsClassifier\n",
    "from sklearn.svm import SVC\n",
    "\n",
    "# Prediction Metrics\n",
    "from sklearn.metrics import classification_report, accuracy_score"
   ]
  },
  {
   "cell_type": "markdown",
   "metadata": {},
   "source": [
    "## Load all of the pickles from data folder"
   ]
  },
  {
   "cell_type": "code",
   "execution_count": 2,
   "metadata": {},
   "outputs": [],
   "source": [
    "from os import listdir, getcwd\n",
    "from pathlib import Path\n",
    "def load_data():\n",
    "    \"\"\"\n",
    "    Loads the timeline data from the data folder.\n",
    "    \"\"\"\n",
    "    # Join file locaition from absolute path to root\n",
    "    ROOT_PATH = str(Path(getcwd()).parents[0])\n",
    "    DATA_LOC = ROOT_PATH + '/old_data/'\n",
    "    \n",
    "    # try to get Get all directory file names\n",
    "    files_names = listdir(DATA_LOC)\n",
    "    \n",
    "    # Check Type\n",
    "    valid_file_names = [f for f in files_names if f.split('.')[1] == 'pkl']\n",
    "    \n",
    "    # Load Pickle Files\n",
    "    dataframes = []\n",
    "    for filename in valid_file_names:\n",
    "        with open(DATA_LOC+filename, 'rb') as f:\n",
    "            df = pd.read_pickle(f)\n",
    "            dataframes.append(df)\n",
    "    return dataframes"
   ]
  },
  {
   "cell_type": "code",
   "execution_count": 3,
   "metadata": {},
   "outputs": [],
   "source": [
    "dataframes = load_data()"
   ]
  },
  {
   "cell_type": "code",
   "execution_count": 4,
   "metadata": {},
   "outputs": [
    {
     "data": {
      "text/plain": [
       "36"
      ]
     },
     "execution_count": 4,
     "metadata": {},
     "output_type": "execute_result"
    }
   ],
   "source": [
    "# Successfully got all of the data!\n",
    "len(dataframes)"
   ]
  },
  {
   "cell_type": "code",
   "execution_count": 5,
   "metadata": {},
   "outputs": [],
   "source": [
    "# Combines the dataframes\n",
    "df = pd.concat(dataframes)"
   ]
  },
  {
   "cell_type": "code",
   "execution_count": 6,
   "metadata": {},
   "outputs": [
    {
     "data": {
      "text/plain": [
       "(21439, 34)"
      ]
     },
     "execution_count": 6,
     "metadata": {},
     "output_type": "execute_result"
    }
   ],
   "source": [
    "df.shape"
   ]
  },
  {
   "cell_type": "code",
   "execution_count": 7,
   "metadata": {},
   "outputs": [
    {
     "data": {
      "text/plain": [
       "Index(['blue_gold', 'blue_cs', 'blue_jg', 'blue_xp', 'red_gold', 'red_cs',\n",
       "       'red_jg', 'red_xp', 'blue_wards_placed', 'blue_wards_destroyed',\n",
       "       'blue_air_dragons', 'blue_fire_dragons', 'blue_earth_dragons',\n",
       "       'blue_ocean_dragons', 'blue_turrets_destroyed', 'blue_rift_heralds',\n",
       "       'blue_inhibitors_destroyed', 'blue_kills', 'blue_assists',\n",
       "       'blue_deaths', 'red_wards_placed', 'red_wards_destroyed',\n",
       "       'red_air_dragons', 'red_fire_dragons', 'red_earth_dragons',\n",
       "       'red_ocean_dragons', 'red_turrets_destroyed', 'red_rift_heralds',\n",
       "       'red_inhibitors_destroyed', 'red_kills', 'red_assists', 'red_deaths',\n",
       "       'unix_date', 'winner'],\n",
       "      dtype='object')"
      ]
     },
     "execution_count": 7,
     "metadata": {},
     "output_type": "execute_result"
    }
   ],
   "source": [
    "df.columns"
   ]
  },
  {
   "cell_type": "markdown",
   "metadata": {},
   "source": [
    "## Next, let's get an overview of the data we're working with\n",
    "### Features\n",
    "Each feature listed below is split into different teams, with the prefixes of \"blue_\" and \"red_\".\n",
    "<ul> \n",
    "<li>Gold: Total gold accumulated. (Gold can be used to purchase items which can increase a player's strength.)</li>\n",
    "<li>CS: Number creeps killed. (Killing a creep gives different amounts of gold.)</li>\n",
    "<li>JG: Number of jungle creeps killed. (Same as above.)</li>\n",
    "<li>XP: Total experience accumulated. (This is gained from killing enemies, being in the vicinity of a creep kill, or killing an object.</li>\n",
    "<li>Wards Placed: Number of wards placed. (Wards reveal areas of the map to spot enemies.)</li>\n",
    "<li>Wards Destroyed: Number of enemy wards destroyed.</li>\n",
    "<li>Dragons: Number of that type of dragon killed. (Different dragon types give different advantages to the team that kills them.)</li>\n",
    "<li>Heralds: Number of heralds killed. (These give gold, xp, and when used can do significant damage to towers.)</li>\n",
    "<li>Turrets Destroyed: Number of enemy turrets destroyed. (Killing a turret opens up parts of the map.)</li>\n",
    "<li>Inhibs Destroyed: Number of enemy inhibitors destroyed. (Killing an inhib allows your team to have stronger creeps in that lane.)</li>\n",
    "<li>Kills: Number of enemies killed.</li>\n",
    "<li>Assists: Number of assists on an enemy killed.</li>\n",
    "<li>Deaths: Number of deaths of the team.</li>\n",
    "</ul>\n",
    "\n",
    "### Target\n",
    "Winner: The team which one the game."
   ]
  },
  {
   "cell_type": "code",
   "execution_count": 8,
   "metadata": {},
   "outputs": [
    {
     "name": "stdout",
     "output_type": "stream",
     "text": [
      "<class 'pandas.core.frame.DataFrame'>\n",
      "Int64Index: 21439 entries, 0 to 535\n",
      "Data columns (total 34 columns):\n",
      " #   Column                     Non-Null Count  Dtype \n",
      "---  ------                     --------------  ----- \n",
      " 0   blue_gold                  21439 non-null  int64 \n",
      " 1   blue_cs                    21439 non-null  int64 \n",
      " 2   blue_jg                    21439 non-null  int64 \n",
      " 3   blue_xp                    21439 non-null  int64 \n",
      " 4   red_gold                   21439 non-null  int64 \n",
      " 5   red_cs                     21439 non-null  int64 \n",
      " 6   red_jg                     21439 non-null  int64 \n",
      " 7   red_xp                     21439 non-null  int64 \n",
      " 8   blue_wards_placed          21439 non-null  int64 \n",
      " 9   blue_wards_destroyed       21439 non-null  int64 \n",
      " 10  blue_air_dragons           21439 non-null  int64 \n",
      " 11  blue_fire_dragons          21439 non-null  int64 \n",
      " 12  blue_earth_dragons         21439 non-null  int64 \n",
      " 13  blue_ocean_dragons         21439 non-null  int64 \n",
      " 14  blue_turrets_destroyed     21439 non-null  int64 \n",
      " 15  blue_rift_heralds          21439 non-null  int64 \n",
      " 16  blue_inhibitors_destroyed  21439 non-null  int64 \n",
      " 17  blue_kills                 21439 non-null  int64 \n",
      " 18  blue_assists               21439 non-null  int64 \n",
      " 19  blue_deaths                21439 non-null  int64 \n",
      " 20  red_wards_placed           21439 non-null  int64 \n",
      " 21  red_wards_destroyed        21439 non-null  int64 \n",
      " 22  red_air_dragons            21439 non-null  int64 \n",
      " 23  red_fire_dragons           21439 non-null  int64 \n",
      " 24  red_earth_dragons          21439 non-null  int64 \n",
      " 25  red_ocean_dragons          21439 non-null  int64 \n",
      " 26  red_turrets_destroyed      21439 non-null  int64 \n",
      " 27  red_rift_heralds           21439 non-null  int64 \n",
      " 28  red_inhibitors_destroyed   21439 non-null  int64 \n",
      " 29  red_kills                  21439 non-null  int64 \n",
      " 30  red_assists                21439 non-null  int64 \n",
      " 31  red_deaths                 21439 non-null  int64 \n",
      " 32  unix_date                  21439 non-null  int64 \n",
      " 33  winner                     21439 non-null  object\n",
      "dtypes: int64(33), object(1)\n",
      "memory usage: 5.7+ MB\n"
     ]
    }
   ],
   "source": [
    "# We have no nulls and everything is an integer besides our target.\n",
    "df.info()"
   ]
  },
  {
   "cell_type": "code",
   "execution_count": 9,
   "metadata": {},
   "outputs": [
    {
     "data": {
      "text/html": [
       "<div>\n",
       "<style scoped>\n",
       "    .dataframe tbody tr th:only-of-type {\n",
       "        vertical-align: middle;\n",
       "    }\n",
       "\n",
       "    .dataframe tbody tr th {\n",
       "        vertical-align: top;\n",
       "    }\n",
       "\n",
       "    .dataframe thead th {\n",
       "        text-align: right;\n",
       "    }\n",
       "</style>\n",
       "<table border=\"1\" class=\"dataframe\">\n",
       "  <thead>\n",
       "    <tr style=\"text-align: right;\">\n",
       "      <th></th>\n",
       "      <th>blue_gold</th>\n",
       "      <th>blue_cs</th>\n",
       "      <th>blue_jg</th>\n",
       "      <th>blue_xp</th>\n",
       "      <th>red_gold</th>\n",
       "      <th>red_cs</th>\n",
       "      <th>red_jg</th>\n",
       "      <th>red_xp</th>\n",
       "      <th>blue_wards_placed</th>\n",
       "      <th>blue_wards_destroyed</th>\n",
       "      <th>...</th>\n",
       "      <th>red_fire_dragons</th>\n",
       "      <th>red_earth_dragons</th>\n",
       "      <th>red_ocean_dragons</th>\n",
       "      <th>red_turrets_destroyed</th>\n",
       "      <th>red_rift_heralds</th>\n",
       "      <th>red_inhibitors_destroyed</th>\n",
       "      <th>red_kills</th>\n",
       "      <th>red_assists</th>\n",
       "      <th>red_deaths</th>\n",
       "      <th>unix_date</th>\n",
       "    </tr>\n",
       "  </thead>\n",
       "  <tbody>\n",
       "    <tr>\n",
       "      <th>count</th>\n",
       "      <td>21439.000000</td>\n",
       "      <td>21439.000000</td>\n",
       "      <td>21439.000000</td>\n",
       "      <td>21439.000000</td>\n",
       "      <td>21439.000000</td>\n",
       "      <td>21439.000000</td>\n",
       "      <td>21439.000000</td>\n",
       "      <td>21439.000000</td>\n",
       "      <td>21439.000000</td>\n",
       "      <td>21439.000000</td>\n",
       "      <td>...</td>\n",
       "      <td>21439.000000</td>\n",
       "      <td>21439.000000</td>\n",
       "      <td>21439.0</td>\n",
       "      <td>21439.000000</td>\n",
       "      <td>21439.000000</td>\n",
       "      <td>21439.000000</td>\n",
       "      <td>21439.000000</td>\n",
       "      <td>21439.000000</td>\n",
       "      <td>21439.000000</td>\n",
       "      <td>2.143900e+04</td>\n",
       "    </tr>\n",
       "    <tr>\n",
       "      <th>mean</th>\n",
       "      <td>26125.170577</td>\n",
       "      <td>317.290219</td>\n",
       "      <td>80.762536</td>\n",
       "      <td>28908.258548</td>\n",
       "      <td>26081.882737</td>\n",
       "      <td>318.146882</td>\n",
       "      <td>82.716545</td>\n",
       "      <td>29007.999114</td>\n",
       "      <td>40.769112</td>\n",
       "      <td>5.877653</td>\n",
       "      <td>...</td>\n",
       "      <td>0.210784</td>\n",
       "      <td>0.213536</td>\n",
       "      <td>0.0</td>\n",
       "      <td>0.595923</td>\n",
       "      <td>0.361771</td>\n",
       "      <td>0.001726</td>\n",
       "      <td>11.505900</td>\n",
       "      <td>12.134988</td>\n",
       "      <td>11.560800</td>\n",
       "      <td>1.622149e+12</td>\n",
       "    </tr>\n",
       "    <tr>\n",
       "      <th>std</th>\n",
       "      <td>2872.718432</td>\n",
       "      <td>41.504391</td>\n",
       "      <td>15.387452</td>\n",
       "      <td>2131.335855</td>\n",
       "      <td>2827.210897</td>\n",
       "      <td>41.810842</td>\n",
       "      <td>15.494057</td>\n",
       "      <td>2145.935681</td>\n",
       "      <td>41.937878</td>\n",
       "      <td>3.694309</td>\n",
       "      <td>...</td>\n",
       "      <td>0.407875</td>\n",
       "      <td>0.409812</td>\n",
       "      <td>0.0</td>\n",
       "      <td>0.830557</td>\n",
       "      <td>0.481397</td>\n",
       "      <td>0.043698</td>\n",
       "      <td>4.611358</td>\n",
       "      <td>6.110763</td>\n",
       "      <td>4.700124</td>\n",
       "      <td>8.572837e+09</td>\n",
       "    </tr>\n",
       "    <tr>\n",
       "      <th>min</th>\n",
       "      <td>16727.000000</td>\n",
       "      <td>116.000000</td>\n",
       "      <td>4.000000</td>\n",
       "      <td>17222.000000</td>\n",
       "      <td>15032.000000</td>\n",
       "      <td>126.000000</td>\n",
       "      <td>0.000000</td>\n",
       "      <td>18046.000000</td>\n",
       "      <td>3.000000</td>\n",
       "      <td>0.000000</td>\n",
       "      <td>...</td>\n",
       "      <td>0.000000</td>\n",
       "      <td>0.000000</td>\n",
       "      <td>0.0</td>\n",
       "      <td>0.000000</td>\n",
       "      <td>0.000000</td>\n",
       "      <td>0.000000</td>\n",
       "      <td>0.000000</td>\n",
       "      <td>0.000000</td>\n",
       "      <td>0.000000</td>\n",
       "      <td>1.607601e+12</td>\n",
       "    </tr>\n",
       "    <tr>\n",
       "      <th>25%</th>\n",
       "      <td>24119.500000</td>\n",
       "      <td>291.000000</td>\n",
       "      <td>71.000000</td>\n",
       "      <td>27513.000000</td>\n",
       "      <td>24119.000000</td>\n",
       "      <td>292.000000</td>\n",
       "      <td>72.000000</td>\n",
       "      <td>27607.000000</td>\n",
       "      <td>23.000000</td>\n",
       "      <td>3.000000</td>\n",
       "      <td>...</td>\n",
       "      <td>0.000000</td>\n",
       "      <td>0.000000</td>\n",
       "      <td>0.0</td>\n",
       "      <td>0.000000</td>\n",
       "      <td>0.000000</td>\n",
       "      <td>0.000000</td>\n",
       "      <td>8.000000</td>\n",
       "      <td>8.000000</td>\n",
       "      <td>8.000000</td>\n",
       "      <td>1.614763e+12</td>\n",
       "    </tr>\n",
       "    <tr>\n",
       "      <th>50%</th>\n",
       "      <td>25947.000000</td>\n",
       "      <td>319.000000</td>\n",
       "      <td>80.000000</td>\n",
       "      <td>28913.000000</td>\n",
       "      <td>25927.000000</td>\n",
       "      <td>320.000000</td>\n",
       "      <td>83.000000</td>\n",
       "      <td>29030.000000</td>\n",
       "      <td>28.000000</td>\n",
       "      <td>5.000000</td>\n",
       "      <td>...</td>\n",
       "      <td>0.000000</td>\n",
       "      <td>0.000000</td>\n",
       "      <td>0.0</td>\n",
       "      <td>0.000000</td>\n",
       "      <td>0.000000</td>\n",
       "      <td>0.000000</td>\n",
       "      <td>11.000000</td>\n",
       "      <td>11.000000</td>\n",
       "      <td>11.000000</td>\n",
       "      <td>1.620584e+12</td>\n",
       "    </tr>\n",
       "    <tr>\n",
       "      <th>75%</th>\n",
       "      <td>27956.000000</td>\n",
       "      <td>346.000000</td>\n",
       "      <td>91.000000</td>\n",
       "      <td>30308.000000</td>\n",
       "      <td>27871.500000</td>\n",
       "      <td>347.000000</td>\n",
       "      <td>92.000000</td>\n",
       "      <td>30439.000000</td>\n",
       "      <td>37.000000</td>\n",
       "      <td>8.000000</td>\n",
       "      <td>...</td>\n",
       "      <td>0.000000</td>\n",
       "      <td>0.000000</td>\n",
       "      <td>0.0</td>\n",
       "      <td>1.000000</td>\n",
       "      <td>1.000000</td>\n",
       "      <td>0.000000</td>\n",
       "      <td>14.000000</td>\n",
       "      <td>16.000000</td>\n",
       "      <td>14.000000</td>\n",
       "      <td>1.630544e+12</td>\n",
       "    </tr>\n",
       "    <tr>\n",
       "      <th>max</th>\n",
       "      <td>37991.000000</td>\n",
       "      <td>459.000000</td>\n",
       "      <td>146.000000</td>\n",
       "      <td>37024.000000</td>\n",
       "      <td>40144.000000</td>\n",
       "      <td>468.000000</td>\n",
       "      <td>144.000000</td>\n",
       "      <td>37272.000000</td>\n",
       "      <td>522.000000</td>\n",
       "      <td>46.000000</td>\n",
       "      <td>...</td>\n",
       "      <td>1.000000</td>\n",
       "      <td>1.000000</td>\n",
       "      <td>0.0</td>\n",
       "      <td>7.000000</td>\n",
       "      <td>2.000000</td>\n",
       "      <td>2.000000</td>\n",
       "      <td>37.000000</td>\n",
       "      <td>46.000000</td>\n",
       "      <td>35.000000</td>\n",
       "      <td>1.637361e+12</td>\n",
       "    </tr>\n",
       "  </tbody>\n",
       "</table>\n",
       "<p>8 rows × 33 columns</p>\n",
       "</div>"
      ],
      "text/plain": [
       "          blue_gold       blue_cs       blue_jg       blue_xp      red_gold  \\\n",
       "count  21439.000000  21439.000000  21439.000000  21439.000000  21439.000000   \n",
       "mean   26125.170577    317.290219     80.762536  28908.258548  26081.882737   \n",
       "std     2872.718432     41.504391     15.387452   2131.335855   2827.210897   \n",
       "min    16727.000000    116.000000      4.000000  17222.000000  15032.000000   \n",
       "25%    24119.500000    291.000000     71.000000  27513.000000  24119.000000   \n",
       "50%    25947.000000    319.000000     80.000000  28913.000000  25927.000000   \n",
       "75%    27956.000000    346.000000     91.000000  30308.000000  27871.500000   \n",
       "max    37991.000000    459.000000    146.000000  37024.000000  40144.000000   \n",
       "\n",
       "             red_cs        red_jg        red_xp  blue_wards_placed  \\\n",
       "count  21439.000000  21439.000000  21439.000000       21439.000000   \n",
       "mean     318.146882     82.716545  29007.999114          40.769112   \n",
       "std       41.810842     15.494057   2145.935681          41.937878   \n",
       "min      126.000000      0.000000  18046.000000           3.000000   \n",
       "25%      292.000000     72.000000  27607.000000          23.000000   \n",
       "50%      320.000000     83.000000  29030.000000          28.000000   \n",
       "75%      347.000000     92.000000  30439.000000          37.000000   \n",
       "max      468.000000    144.000000  37272.000000         522.000000   \n",
       "\n",
       "       blue_wards_destroyed  ...  red_fire_dragons  red_earth_dragons  \\\n",
       "count          21439.000000  ...      21439.000000       21439.000000   \n",
       "mean               5.877653  ...          0.210784           0.213536   \n",
       "std                3.694309  ...          0.407875           0.409812   \n",
       "min                0.000000  ...          0.000000           0.000000   \n",
       "25%                3.000000  ...          0.000000           0.000000   \n",
       "50%                5.000000  ...          0.000000           0.000000   \n",
       "75%                8.000000  ...          0.000000           0.000000   \n",
       "max               46.000000  ...          1.000000           1.000000   \n",
       "\n",
       "       red_ocean_dragons  red_turrets_destroyed  red_rift_heralds  \\\n",
       "count            21439.0           21439.000000      21439.000000   \n",
       "mean                 0.0               0.595923          0.361771   \n",
       "std                  0.0               0.830557          0.481397   \n",
       "min                  0.0               0.000000          0.000000   \n",
       "25%                  0.0               0.000000          0.000000   \n",
       "50%                  0.0               0.000000          0.000000   \n",
       "75%                  0.0               1.000000          1.000000   \n",
       "max                  0.0               7.000000          2.000000   \n",
       "\n",
       "       red_inhibitors_destroyed     red_kills   red_assists    red_deaths  \\\n",
       "count              21439.000000  21439.000000  21439.000000  21439.000000   \n",
       "mean                   0.001726     11.505900     12.134988     11.560800   \n",
       "std                    0.043698      4.611358      6.110763      4.700124   \n",
       "min                    0.000000      0.000000      0.000000      0.000000   \n",
       "25%                    0.000000      8.000000      8.000000      8.000000   \n",
       "50%                    0.000000     11.000000     11.000000     11.000000   \n",
       "75%                    0.000000     14.000000     16.000000     14.000000   \n",
       "max                    2.000000     37.000000     46.000000     35.000000   \n",
       "\n",
       "          unix_date  \n",
       "count  2.143900e+04  \n",
       "mean   1.622149e+12  \n",
       "std    8.572837e+09  \n",
       "min    1.607601e+12  \n",
       "25%    1.614763e+12  \n",
       "50%    1.620584e+12  \n",
       "75%    1.630544e+12  \n",
       "max    1.637361e+12  \n",
       "\n",
       "[8 rows x 33 columns]"
      ]
     },
     "execution_count": 9,
     "metadata": {},
     "output_type": "execute_result"
    }
   ],
   "source": [
    "df.describe()"
   ]
  },
  {
   "cell_type": "markdown",
   "metadata": {},
   "source": [
    "### Distribution of target\n",
    "We have a good distribution of the target variable! These are from random samples, so maybe we can assume our data is also normally distributed?"
   ]
  },
  {
   "cell_type": "code",
   "execution_count": 10,
   "metadata": {},
   "outputs": [
    {
     "data": {
      "image/png": "[encoded data removed]",
      "text/plain": [
       "<Figure size 432x288 with 1 Axes>"
      ]
     },
     "metadata": {
      "needs_background": "light"
     },
     "output_type": "display_data"
    }
   ],
   "source": [
    "ax = df['winner'].value_counts().plot.bar(rot=0)\n",
    "for container in ax.containers:\n",
    "    ax.bar_label(container)\n",
    "plt.show()"
   ]
  },
  {
   "cell_type": "markdown",
   "metadata": {},
   "source": [
    "### Distributions of the target in regards to the features"
   ]
  },
  {
   "cell_type": "code",
   "execution_count": 11,
   "metadata": {},
   "outputs": [],
   "source": [
    "def compare_by_winner(feature, data):\n",
    "    # Get subset with winner\n",
    "    sub_blue = data[data['winner'] == 'blue']\n",
    "    sub_red = data[data['winner'] == 'red']\n",
    "\n",
    "    cols = [col for col in data.columns if feature.lower() in col.lower()]\n",
    "\n",
    "    fig, ax = plt.subplots(1, 2, figsize=(10, 8))\n",
    "\n",
    "    # Plot when blue wins\n",
    "    sns.boxplot(ax=ax[0], data=sub_blue[cols])\n",
    "    ax[0].set_title(\"Blue Win\")\n",
    "\n",
    "    # Plot when red wins\n",
    "    sns.boxplot(ax=ax[1], data=sub_red[cols])\n",
    "    ax[1].set_title(\"Red Win\")\n"
   ]
  },
  {
   "cell_type": "markdown",
   "metadata": {},
   "source": [
    "### Gold"
   ]
  },
  {
   "cell_type": "code",
   "execution_count": 12,
   "metadata": {},
   "outputs": [
    {
     "data": {
      "image/png": "[encoded data removed]",
      "text/plain": [
       "<Figure size 720x576 with 2 Axes>"
      ]
     },
     "metadata": {
      "needs_background": "light"
     },
     "output_type": "display_data"
    }
   ],
   "source": [
    "compare_by_winner('gold', df)"
   ]
  },
  {
   "cell_type": "markdown",
   "metadata": {},
   "source": [
    "### Creep Score (CS)"
   ]
  },
  {
   "cell_type": "code",
   "execution_count": 13,
   "metadata": {},
   "outputs": [
    {
     "data": {
      "image/png": "[encoded data removed]",
      "text/plain": [
       "<Figure size 720x576 with 2 Axes>"
      ]
     },
     "metadata": {
      "needs_background": "light"
     },
     "output_type": "display_data"
    }
   ],
   "source": [
    "compare_by_winner('cs', df)"
   ]
  },
  {
   "cell_type": "markdown",
   "metadata": {},
   "source": [
    "### Experience (XP)"
   ]
  },
  {
   "cell_type": "code",
   "execution_count": 14,
   "metadata": {},
   "outputs": [
    {
     "data": {
      "image/png": "[encoded data removed]",
      "text/plain": [
       "<Figure size 720x576 with 2 Axes>"
      ]
     },
     "metadata": {
      "needs_background": "light"
     },
     "output_type": "display_data"
    }
   ],
   "source": [
    "compare_by_winner('xp', df)"
   ]
  },
  {
   "cell_type": "markdown",
   "metadata": {},
   "source": [
    "### Jungle (JG)"
   ]
  },
  {
   "cell_type": "code",
   "execution_count": 15,
   "metadata": {},
   "outputs": [
    {
     "data": {
      "image/png": "[encoded data removed]",
      "text/plain": [
       "<Figure size 720x576 with 2 Axes>"
      ]
     },
     "metadata": {
      "needs_background": "light"
     },
     "output_type": "display_data"
    }
   ],
   "source": [
    "compare_by_winner('jg', df)"
   ]
  },
  {
   "cell_type": "markdown",
   "metadata": {},
   "source": [
    "### Wards Placed"
   ]
  },
  {
   "cell_type": "code",
   "execution_count": 16,
   "metadata": {},
   "outputs": [
    {
     "data": {
      "image/png": "[encoded data removed]",
      "text/plain": [
       "<Figure size 720x576 with 2 Axes>"
      ]
     },
     "metadata": {
      "needs_background": "light"
     },
     "output_type": "display_data"
    }
   ],
   "source": [
    "compare_by_winner('wards_placed', df)"
   ]
  },
  {
   "cell_type": "markdown",
   "metadata": {},
   "source": [
    "### Wards Destroyed"
   ]
  },
  {
   "cell_type": "code",
   "execution_count": 17,
   "metadata": {},
   "outputs": [
    {
     "data": {
      "image/png": "[encoded data removed]",
      "text/plain": [
       "<Figure size 720x576 with 2 Axes>"
      ]
     },
     "metadata": {
      "needs_background": "light"
     },
     "output_type": "display_data"
    }
   ],
   "source": [
    "compare_by_winner('wards_destroyed', df)"
   ]
  },
  {
   "cell_type": "markdown",
   "metadata": {},
   "source": [
    "### Fire Dragons"
   ]
  },
  {
   "cell_type": "code",
   "execution_count": 18,
   "metadata": {},
   "outputs": [
    {
     "data": {
      "image/png": "[encoded data removed]",
      "text/plain": [
       "<Figure size 720x576 with 2 Axes>"
      ]
     },
     "metadata": {
      "needs_background": "light"
     },
     "output_type": "display_data"
    }
   ],
   "source": [
    "compare_by_winner('fire_dragons', df)"
   ]
  },
  {
   "cell_type": "markdown",
   "metadata": {},
   "source": [
    "### Air Dragons"
   ]
  },
  {
   "cell_type": "code",
   "execution_count": 19,
   "metadata": {},
   "outputs": [
    {
     "data": {
      "image/png": "[encoded data removed]",
      "text/plain": [
       "<Figure size 720x576 with 2 Axes>"
      ]
     },
     "metadata": {
      "needs_background": "light"
     },
     "output_type": "display_data"
    }
   ],
   "source": [
    "compare_by_winner('air_dragons', df)"
   ]
  },
  {
   "cell_type": "markdown",
   "metadata": {},
   "source": [
    "### Water Dragons"
   ]
  },
  {
   "cell_type": "code",
   "execution_count": 20,
   "metadata": {},
   "outputs": [
    {
     "ename": "ValueError",
     "evalue": "min() arg is an empty sequence",
     "output_type": "error",
     "traceback": [
      "\u001b[0;31m---------------------------------------------------------------------------\u001b[0m",
      "\u001b[0;31mValueError\u001b[0m                                Traceback (most recent call last)",
      "\u001b[0;32m/var/folders/mv/m9p7xj3x64ddcm_shh2yq5p00000gn/T/ipykernel_7959/2320079156.py\u001b[0m in \u001b[0;36m<module>\u001b[0;34m\u001b[0m\n\u001b[0;32m----> 1\u001b[0;31m \u001b[0mcompare_by_winner\u001b[0m\u001b[0;34m(\u001b[0m\u001b[0;34m'water_dragons'\u001b[0m\u001b[0;34m,\u001b[0m \u001b[0mdf\u001b[0m\u001b[0;34m)\u001b[0m\u001b[0;34m\u001b[0m\u001b[0;34m\u001b[0m\u001b[0m\n\u001b[0m",
      "\u001b[0;32m/var/folders/mv/m9p7xj3x64ddcm_shh2yq5p00000gn/T/ipykernel_7959/3899787857.py\u001b[0m in \u001b[0;36mcompare_by_winner\u001b[0;34m(feature, data)\u001b[0m\n\u001b[1;32m      9\u001b[0m \u001b[0;34m\u001b[0m\u001b[0m\n\u001b[1;32m     10\u001b[0m     \u001b[0;31m# Plot when blue wins\u001b[0m\u001b[0;34m\u001b[0m\u001b[0;34m\u001b[0m\u001b[0m\n\u001b[0;32m---> 11\u001b[0;31m     \u001b[0msns\u001b[0m\u001b[0;34m.\u001b[0m\u001b[0mboxplot\u001b[0m\u001b[0;34m(\u001b[0m\u001b[0max\u001b[0m\u001b[0;34m=\u001b[0m\u001b[0max\u001b[0m\u001b[0;34m[\u001b[0m\u001b[0;36m0\u001b[0m\u001b[0;34m]\u001b[0m\u001b[0;34m,\u001b[0m \u001b[0mdata\u001b[0m\u001b[0;34m=\u001b[0m\u001b[0msub_blue\u001b[0m\u001b[0;34m[\u001b[0m\u001b[0mcols\u001b[0m\u001b[0;34m]\u001b[0m\u001b[0;34m)\u001b[0m\u001b[0;34m\u001b[0m\u001b[0;34m\u001b[0m\u001b[0m\n\u001b[0m\u001b[1;32m     12\u001b[0m     \u001b[0max\u001b[0m\u001b[0;34m[\u001b[0m\u001b[0;36m0\u001b[0m\u001b[0;34m]\u001b[0m\u001b[0;34m.\u001b[0m\u001b[0mset_title\u001b[0m\u001b[0;34m(\u001b[0m\u001b[0;34m\"Blue Win\"\u001b[0m\u001b[0;34m)\u001b[0m\u001b[0;34m\u001b[0m\u001b[0;34m\u001b[0m\u001b[0m\n\u001b[1;32m     13\u001b[0m \u001b[0;34m\u001b[0m\u001b[0m\n",
      "\u001b[0;32m/opt/anaconda3/lib/python3.9/site-packages/seaborn/_decorators.py\u001b[0m in \u001b[0;36minner_f\u001b[0;34m(*args, **kwargs)\u001b[0m\n\u001b[1;32m     44\u001b[0m             )\n\u001b[1;32m     45\u001b[0m         \u001b[0mkwargs\u001b[0m\u001b[0;34m.\u001b[0m\u001b[0mupdate\u001b[0m\u001b[0;34m(\u001b[0m\u001b[0;34m{\u001b[0m\u001b[0mk\u001b[0m\u001b[0;34m:\u001b[0m \u001b[0marg\u001b[0m \u001b[0;32mfor\u001b[0m \u001b[0mk\u001b[0m\u001b[0;34m,\u001b[0m \u001b[0marg\u001b[0m \u001b[0;32min\u001b[0m \u001b[0mzip\u001b[0m\u001b[0;34m(\u001b[0m\u001b[0msig\u001b[0m\u001b[0;34m.\u001b[0m\u001b[0mparameters\u001b[0m\u001b[0;34m,\u001b[0m \u001b[0margs\u001b[0m\u001b[0;34m)\u001b[0m\u001b[0;34m}\u001b[0m\u001b[0;34m)\u001b[0m\u001b[0;34m\u001b[0m\u001b[0;34m\u001b[0m\u001b[0m\n\u001b[0;32m---> 46\u001b[0;31m         \u001b[0;32mreturn\u001b[0m \u001b[0mf\u001b[0m\u001b[0;34m(\u001b[0m\u001b[0;34m**\u001b[0m\u001b[0mkwargs\u001b[0m\u001b[0;34m)\u001b[0m\u001b[0;34m\u001b[0m\u001b[0;34m\u001b[0m\u001b[0m\n\u001b[0m\u001b[1;32m     47\u001b[0m     \u001b[0;32mreturn\u001b[0m \u001b[0minner_f\u001b[0m\u001b[0;34m\u001b[0m\u001b[0;34m\u001b[0m\u001b[0m\n\u001b[1;32m     48\u001b[0m \u001b[0;34m\u001b[0m\u001b[0m\n",
      "\u001b[0;32m/opt/anaconda3/lib/python3.9/site-packages/seaborn/categorical.py\u001b[0m in \u001b[0;36mboxplot\u001b[0;34m(x, y, hue, data, order, hue_order, orient, color, palette, saturation, width, dodge, fliersize, linewidth, whis, ax, **kwargs)\u001b[0m\n\u001b[1;32m   2241\u001b[0m ):\n\u001b[1;32m   2242\u001b[0m \u001b[0;34m\u001b[0m\u001b[0m\n\u001b[0;32m-> 2243\u001b[0;31m     plotter = _BoxPlotter(x, y, hue, data, order, hue_order,\n\u001b[0m\u001b[1;32m   2244\u001b[0m                           \u001b[0morient\u001b[0m\u001b[0;34m,\u001b[0m \u001b[0mcolor\u001b[0m\u001b[0;34m,\u001b[0m \u001b[0mpalette\u001b[0m\u001b[0;34m,\u001b[0m \u001b[0msaturation\u001b[0m\u001b[0;34m,\u001b[0m\u001b[0;34m\u001b[0m\u001b[0;34m\u001b[0m\u001b[0m\n\u001b[1;32m   2245\u001b[0m                           width, dodge, fliersize, linewidth)\n",
      "\u001b[0;32m/opt/anaconda3/lib/python3.9/site-packages/seaborn/categorical.py\u001b[0m in \u001b[0;36m__init__\u001b[0;34m(self, x, y, hue, data, order, hue_order, orient, color, palette, saturation, width, dodge, fliersize, linewidth)\u001b[0m\n\u001b[1;32m    405\u001b[0m \u001b[0;34m\u001b[0m\u001b[0m\n\u001b[1;32m    406\u001b[0m         \u001b[0mself\u001b[0m\u001b[0;34m.\u001b[0m\u001b[0mestablish_variables\u001b[0m\u001b[0;34m(\u001b[0m\u001b[0mx\u001b[0m\u001b[0;34m,\u001b[0m \u001b[0my\u001b[0m\u001b[0;34m,\u001b[0m \u001b[0mhue\u001b[0m\u001b[0;34m,\u001b[0m \u001b[0mdata\u001b[0m\u001b[0;34m,\u001b[0m \u001b[0morient\u001b[0m\u001b[0;34m,\u001b[0m \u001b[0morder\u001b[0m\u001b[0;34m,\u001b[0m \u001b[0mhue_order\u001b[0m\u001b[0;34m)\u001b[0m\u001b[0;34m\u001b[0m\u001b[0;34m\u001b[0m\u001b[0m\n\u001b[0;32m--> 407\u001b[0;31m         \u001b[0mself\u001b[0m\u001b[0;34m.\u001b[0m\u001b[0mestablish_colors\u001b[0m\u001b[0;34m(\u001b[0m\u001b[0mcolor\u001b[0m\u001b[0;34m,\u001b[0m \u001b[0mpalette\u001b[0m\u001b[0;34m,\u001b[0m \u001b[0msaturation\u001b[0m\u001b[0;34m)\u001b[0m\u001b[0;34m\u001b[0m\u001b[0;34m\u001b[0m\u001b[0m\n\u001b[0m\u001b[1;32m    408\u001b[0m \u001b[0;34m\u001b[0m\u001b[0m\n\u001b[1;32m    409\u001b[0m         \u001b[0mself\u001b[0m\u001b[0;34m.\u001b[0m\u001b[0mdodge\u001b[0m \u001b[0;34m=\u001b[0m \u001b[0mdodge\u001b[0m\u001b[0;34m\u001b[0m\u001b[0;34m\u001b[0m\u001b[0m\n",
      "\u001b[0;32m/opt/anaconda3/lib/python3.9/site-packages/seaborn/categorical.py\u001b[0m in \u001b[0;36mestablish_colors\u001b[0;34m(self, color, palette, saturation)\u001b[0m\n\u001b[1;32m    317\u001b[0m         \u001b[0;31m# Determine the gray color to use for the lines framing the plot\u001b[0m\u001b[0;34m\u001b[0m\u001b[0;34m\u001b[0m\u001b[0m\n\u001b[1;32m    318\u001b[0m         \u001b[0mlight_vals\u001b[0m \u001b[0;34m=\u001b[0m \u001b[0;34m[\u001b[0m\u001b[0mcolorsys\u001b[0m\u001b[0;34m.\u001b[0m\u001b[0mrgb_to_hls\u001b[0m\u001b[0;34m(\u001b[0m\u001b[0;34m*\u001b[0m\u001b[0mc\u001b[0m\u001b[0;34m)\u001b[0m\u001b[0;34m[\u001b[0m\u001b[0;36m1\u001b[0m\u001b[0;34m]\u001b[0m \u001b[0;32mfor\u001b[0m \u001b[0mc\u001b[0m \u001b[0;32min\u001b[0m \u001b[0mrgb_colors\u001b[0m\u001b[0;34m]\u001b[0m\u001b[0;34m\u001b[0m\u001b[0;34m\u001b[0m\u001b[0m\n\u001b[0;32m--> 319\u001b[0;31m         \u001b[0mlum\u001b[0m \u001b[0;34m=\u001b[0m \u001b[0mmin\u001b[0m\u001b[0;34m(\u001b[0m\u001b[0mlight_vals\u001b[0m\u001b[0;34m)\u001b[0m \u001b[0;34m*\u001b[0m \u001b[0;36m.6\u001b[0m\u001b[0;34m\u001b[0m\u001b[0;34m\u001b[0m\u001b[0m\n\u001b[0m\u001b[1;32m    320\u001b[0m         \u001b[0mgray\u001b[0m \u001b[0;34m=\u001b[0m \u001b[0mmpl\u001b[0m\u001b[0;34m.\u001b[0m\u001b[0mcolors\u001b[0m\u001b[0;34m.\u001b[0m\u001b[0mrgb2hex\u001b[0m\u001b[0;34m(\u001b[0m\u001b[0;34m(\u001b[0m\u001b[0mlum\u001b[0m\u001b[0;34m,\u001b[0m \u001b[0mlum\u001b[0m\u001b[0;34m,\u001b[0m \u001b[0mlum\u001b[0m\u001b[0;34m)\u001b[0m\u001b[0;34m)\u001b[0m\u001b[0;34m\u001b[0m\u001b[0;34m\u001b[0m\u001b[0m\n\u001b[1;32m    321\u001b[0m \u001b[0;34m\u001b[0m\u001b[0m\n",
      "\u001b[0;31mValueError\u001b[0m: min() arg is an empty sequence"
     ]
    },
    {
     "data": {
      "image/png": "[encoded data removed]",
      "text/plain": [
       "<Figure size 720x576 with 2 Axes>"
      ]
     },
     "metadata": {
      "needs_background": "light"
     },
     "output_type": "display_data"
    }
   ],
   "source": [
    "compare_by_winner('water_dragons', df)"
   ]
  },
  {
   "cell_type": "markdown",
   "metadata": {},
   "source": [
    "### Earth Dragons"
   ]
  },
  {
   "cell_type": "code",
   "execution_count": 21,
   "metadata": {},
   "outputs": [
    {
     "data": {
      "image/png": "[encoded data removed]",
      "text/plain": [
       "<Figure size 720x576 with 2 Axes>"
      ]
     },
     "metadata": {
      "needs_background": "light"
     },
     "output_type": "display_data"
    }
   ],
   "source": [
    "compare_by_winner('earth_dragons', df)"
   ]
  },
  {
   "cell_type": "markdown",
   "metadata": {},
   "source": [
    "### Heralds"
   ]
  },
  {
   "cell_type": "code",
   "execution_count": 22,
   "metadata": {},
   "outputs": [
    {
     "data": {
      "image/png": "[encoded data removed]",
      "text/plain": [
       "<Figure size 720x576 with 2 Axes>"
      ]
     },
     "metadata": {
      "needs_background": "light"
     },
     "output_type": "display_data"
    }
   ],
   "source": [
    "compare_by_winner('heralds', df)"
   ]
  },
  {
   "cell_type": "markdown",
   "metadata": {},
   "source": [
    "### Turrets Destroyed"
   ]
  },
  {
   "cell_type": "code",
   "execution_count": 23,
   "metadata": {},
   "outputs": [
    {
     "data": {
      "image/png": "[encoded data removed]",
      "text/plain": [
       "<Figure size 720x576 with 2 Axes>"
      ]
     },
     "metadata": {
      "needs_background": "light"
     },
     "output_type": "display_data"
    }
   ],
   "source": [
    "compare_by_winner('turrets_destroyed', df)"
   ]
  },
  {
   "cell_type": "markdown",
   "metadata": {},
   "source": [
    "### Inhibs Destroyed"
   ]
  },
  {
   "cell_type": "code",
   "execution_count": 24,
   "metadata": {},
   "outputs": [
    {
     "data": {
      "image/png": "[encoded data removed]",
      "text/plain": [
       "<Figure size 720x576 with 2 Axes>"
      ]
     },
     "metadata": {
      "needs_background": "light"
     },
     "output_type": "display_data"
    }
   ],
   "source": [
    "compare_by_winner('inhibitors_destroyed', df)"
   ]
  },
  {
   "cell_type": "markdown",
   "metadata": {},
   "source": [
    "## Now, let's look at the distribution of some of our features"
   ]
  },
  {
   "cell_type": "code",
   "execution_count": 25,
   "metadata": {},
   "outputs": [
    {
     "data": {
      "image/png": "[encoded data removed]",
      "text/plain": [
       "<Figure size 432x288 with 1 Axes>"
      ]
     },
     "metadata": {
      "needs_background": "light"
     },
     "output_type": "display_data"
    }
   ],
   "source": [
    "plt.hist(x=df['blue_gold'], bins=25, alpha=0.5)\n",
    "plt.hist(x=df['red_gold'], bins=25, color='red', alpha=0.3)\n",
    "plt.show()"
   ]
  },
  {
   "cell_type": "markdown",
   "metadata": {},
   "source": [
    "### Experience"
   ]
  },
  {
   "cell_type": "code",
   "execution_count": 26,
   "metadata": {},
   "outputs": [
    {
     "data": {
      "image/png": "[encoded data removed]",
      "text/plain": [
       "<Figure size 432x288 with 1 Axes>"
      ]
     },
     "metadata": {
      "needs_background": "light"
     },
     "output_type": "display_data"
    }
   ],
   "source": [
    "plt.hist(x=df['blue_xp'], bins=25, alpha=0.5)\n",
    "plt.hist(x=df['red_xp'], bins=25, color='red', alpha=0.3)\n",
    "plt.show()"
   ]
  },
  {
   "cell_type": "markdown",
   "metadata": {},
   "source": [
    "## Now, let's prepare this dataset for the models"
   ]
  },
  {
   "cell_type": "markdown",
   "metadata": {},
   "source": [
    "First, let's remove the values which have colinearity with each other. For example, blue kills = red deaths, blue deaths = red kills, etc."
   ]
  },
  {
   "cell_type": "code",
   "execution_count": 27,
   "metadata": {},
   "outputs": [
    {
     "data": {
      "text/html": [
       "<div>\n",
       "<style scoped>\n",
       "    .dataframe tbody tr th:only-of-type {\n",
       "        vertical-align: middle;\n",
       "    }\n",
       "\n",
       "    .dataframe tbody tr th {\n",
       "        vertical-align: top;\n",
       "    }\n",
       "\n",
       "    .dataframe thead th {\n",
       "        text-align: right;\n",
       "    }\n",
       "</style>\n",
       "<table border=\"1\" class=\"dataframe\">\n",
       "  <thead>\n",
       "    <tr style=\"text-align: right;\">\n",
       "      <th></th>\n",
       "      <th>blue_gold</th>\n",
       "      <th>blue_cs</th>\n",
       "      <th>blue_jg</th>\n",
       "      <th>blue_xp</th>\n",
       "      <th>red_gold</th>\n",
       "      <th>red_cs</th>\n",
       "      <th>red_jg</th>\n",
       "      <th>red_xp</th>\n",
       "      <th>blue_wards_placed</th>\n",
       "      <th>blue_wards_destroyed</th>\n",
       "      <th>...</th>\n",
       "      <th>red_earth_dragons</th>\n",
       "      <th>red_ocean_dragons</th>\n",
       "      <th>red_turrets_destroyed</th>\n",
       "      <th>red_rift_heralds</th>\n",
       "      <th>red_inhibitors_destroyed</th>\n",
       "      <th>red_kills</th>\n",
       "      <th>red_assists</th>\n",
       "      <th>red_deaths</th>\n",
       "      <th>unix_date</th>\n",
       "      <th>winner</th>\n",
       "    </tr>\n",
       "  </thead>\n",
       "  <tbody>\n",
       "    <tr>\n",
       "      <th>0</th>\n",
       "      <td>21961</td>\n",
       "      <td>234</td>\n",
       "      <td>60</td>\n",
       "      <td>25322</td>\n",
       "      <td>28203</td>\n",
       "      <td>283</td>\n",
       "      <td>75</td>\n",
       "      <td>31039</td>\n",
       "      <td>118</td>\n",
       "      <td>1</td>\n",
       "      <td>...</td>\n",
       "      <td>0</td>\n",
       "      <td>0</td>\n",
       "      <td>0</td>\n",
       "      <td>1</td>\n",
       "      <td>0</td>\n",
       "      <td>21</td>\n",
       "      <td>16</td>\n",
       "      <td>7</td>\n",
       "      <td>1633923136937</td>\n",
       "      <td>red</td>\n",
       "    </tr>\n",
       "    <tr>\n",
       "      <th>1</th>\n",
       "      <td>23422</td>\n",
       "      <td>254</td>\n",
       "      <td>88</td>\n",
       "      <td>29506</td>\n",
       "      <td>18657</td>\n",
       "      <td>257</td>\n",
       "      <td>64</td>\n",
       "      <td>26349</td>\n",
       "      <td>262</td>\n",
       "      <td>1</td>\n",
       "      <td>...</td>\n",
       "      <td>0</td>\n",
       "      <td>0</td>\n",
       "      <td>0</td>\n",
       "      <td>0</td>\n",
       "      <td>0</td>\n",
       "      <td>1</td>\n",
       "      <td>1</td>\n",
       "      <td>8</td>\n",
       "      <td>1629527340849</td>\n",
       "      <td>blue</td>\n",
       "    </tr>\n",
       "    <tr>\n",
       "      <th>2</th>\n",
       "      <td>20091</td>\n",
       "      <td>239</td>\n",
       "      <td>56</td>\n",
       "      <td>25876</td>\n",
       "      <td>27529</td>\n",
       "      <td>299</td>\n",
       "      <td>79</td>\n",
       "      <td>33763</td>\n",
       "      <td>132</td>\n",
       "      <td>3</td>\n",
       "      <td>...</td>\n",
       "      <td>1</td>\n",
       "      <td>0</td>\n",
       "      <td>0</td>\n",
       "      <td>1</td>\n",
       "      <td>0</td>\n",
       "      <td>19</td>\n",
       "      <td>10</td>\n",
       "      <td>5</td>\n",
       "      <td>1629870336519</td>\n",
       "      <td>red</td>\n",
       "    </tr>\n",
       "    <tr>\n",
       "      <th>3</th>\n",
       "      <td>27195</td>\n",
       "      <td>312</td>\n",
       "      <td>68</td>\n",
       "      <td>28746</td>\n",
       "      <td>19338</td>\n",
       "      <td>230</td>\n",
       "      <td>60</td>\n",
       "      <td>22732</td>\n",
       "      <td>113</td>\n",
       "      <td>5</td>\n",
       "      <td>...</td>\n",
       "      <td>0</td>\n",
       "      <td>0</td>\n",
       "      <td>0</td>\n",
       "      <td>0</td>\n",
       "      <td>0</td>\n",
       "      <td>3</td>\n",
       "      <td>3</td>\n",
       "      <td>15</td>\n",
       "      <td>1628074071639</td>\n",
       "      <td>blue</td>\n",
       "    </tr>\n",
       "    <tr>\n",
       "      <th>4</th>\n",
       "      <td>23802</td>\n",
       "      <td>317</td>\n",
       "      <td>80</td>\n",
       "      <td>28406</td>\n",
       "      <td>24998</td>\n",
       "      <td>282</td>\n",
       "      <td>94</td>\n",
       "      <td>27305</td>\n",
       "      <td>22</td>\n",
       "      <td>3</td>\n",
       "      <td>...</td>\n",
       "      <td>0</td>\n",
       "      <td>0</td>\n",
       "      <td>1</td>\n",
       "      <td>0</td>\n",
       "      <td>0</td>\n",
       "      <td>10</td>\n",
       "      <td>15</td>\n",
       "      <td>6</td>\n",
       "      <td>1629618169838</td>\n",
       "      <td>red</td>\n",
       "    </tr>\n",
       "  </tbody>\n",
       "</table>\n",
       "<p>5 rows × 34 columns</p>\n",
       "</div>"
      ],
      "text/plain": [
       "   blue_gold  blue_cs  blue_jg  blue_xp  red_gold  red_cs  red_jg  red_xp  \\\n",
       "0      21961      234       60    25322     28203     283      75   31039   \n",
       "1      23422      254       88    29506     18657     257      64   26349   \n",
       "2      20091      239       56    25876     27529     299      79   33763   \n",
       "3      27195      312       68    28746     19338     230      60   22732   \n",
       "4      23802      317       80    28406     24998     282      94   27305   \n",
       "\n",
       "   blue_wards_placed  blue_wards_destroyed  ...  red_earth_dragons  \\\n",
       "0                118                     1  ...                  0   \n",
       "1                262                     1  ...                  0   \n",
       "2                132                     3  ...                  1   \n",
       "3                113                     5  ...                  0   \n",
       "4                 22                     3  ...                  0   \n",
       "\n",
       "   red_ocean_dragons  red_turrets_destroyed  red_rift_heralds  \\\n",
       "0                  0                      0                 1   \n",
       "1                  0                      0                 0   \n",
       "2                  0                      0                 1   \n",
       "3                  0                      0                 0   \n",
       "4                  0                      1                 0   \n",
       "\n",
       "   red_inhibitors_destroyed  red_kills  red_assists  red_deaths  \\\n",
       "0                         0         21           16           7   \n",
       "1                         0          1            1           8   \n",
       "2                         0         19           10           5   \n",
       "3                         0          3            3          15   \n",
       "4                         0         10           15           6   \n",
       "\n",
       "       unix_date  winner  \n",
       "0  1633923136937     red  \n",
       "1  1629527340849    blue  \n",
       "2  1629870336519     red  \n",
       "3  1628074071639    blue  \n",
       "4  1629618169838     red  \n",
       "\n",
       "[5 rows x 34 columns]"
      ]
     },
     "execution_count": 27,
     "metadata": {},
     "output_type": "execute_result"
    }
   ],
   "source": [
    "df.head(5)"
   ]
  },
  {
   "cell_type": "code",
   "execution_count": 32,
   "metadata": {},
   "outputs": [],
   "source": [
    "# Seperate target and features\n",
    "prep_df = df.drop(['red_kills', 'red_deaths', 'winner'], axis=1)\n",
    "target = df['winner']"
   ]
  },
  {
   "cell_type": "markdown",
   "metadata": {},
   "source": [
    "### Standardize values"
   ]
  },
  {
   "cell_type": "code",
   "execution_count": 33,
   "metadata": {},
   "outputs": [],
   "source": [
    "min_max_scalar = MinMaxScaler()"
   ]
  },
  {
   "cell_type": "code",
   "execution_count": 34,
   "metadata": {},
   "outputs": [],
   "source": [
    "X = min_max_scalar.fit_transform(prep_df)"
   ]
  },
  {
   "cell_type": "code",
   "execution_count": 42,
   "metadata": {},
   "outputs": [],
   "source": [
    "random_state=101"
   ]
  },
  {
   "cell_type": "code",
   "execution_count": 43,
   "metadata": {},
   "outputs": [],
   "source": [
    "X_train, X_test, y_train, y_test = train_test_split(X, target, test_size=0.25, random_state=random_state)"
   ]
  },
  {
   "cell_type": "markdown",
   "metadata": {},
   "source": [
    "## Logistic Regression CV"
   ]
  },
  {
   "cell_type": "code",
   "execution_count": 45,
   "metadata": {},
   "outputs": [
    {
     "name": "stdout",
     "output_type": "stream",
     "text": [
      "              precision    recall  f1-score   support\n",
      "\n",
      "        blue       0.78      0.78      0.78      2693\n",
      "         red       0.78      0.78      0.78      2667\n",
      "\n",
      "    accuracy                           0.78      5360\n",
      "   macro avg       0.78      0.78      0.78      5360\n",
      "weighted avg       0.78      0.78      0.78      5360\n",
      "\n"
     ]
    }
   ],
   "source": [
    "logm = LogisticRegressionCV(cv=5, random_state=random_state, max_iter=4000)\n",
    "logm.fit(X_train, y_train)\n",
    "predictions = logm.predict(X_test)\n",
    "print(classification_report(y_test, predictions))"
   ]
  },
  {
   "cell_type": "markdown",
   "metadata": {},
   "source": [
    "## Support Vector Classifier"
   ]
  },
  {
   "cell_type": "code",
   "execution_count": 47,
   "metadata": {},
   "outputs": [
    {
     "name": "stdout",
     "output_type": "stream",
     "text": [
      "              precision    recall  f1-score   support\n",
      "\n",
      "        blue       0.78      0.77      0.78      2693\n",
      "         red       0.77      0.78      0.78      2667\n",
      "\n",
      "    accuracy                           0.78      5360\n",
      "   macro avg       0.78      0.78      0.78      5360\n",
      "weighted avg       0.78      0.78      0.78      5360\n",
      "\n"
     ]
    }
   ],
   "source": [
    "svm = SVC(random_state=random_state)\n",
    "svm.fit(X_train, y_train)\n",
    "predictions = svm.predict(X_test)\n",
    "print(classification_report(y_test, predictions))"
   ]
  },
  {
   "cell_type": "markdown",
   "metadata": {},
   "source": [
    "## KNN With GridSearch"
   ]
  },
  {
   "cell_type": "code",
   "execution_count": 51,
   "metadata": {},
   "outputs": [
    {
     "name": "stdout",
     "output_type": "stream",
     "text": [
      "Fitting 3 folds for each of 16 candidates, totalling 48 fits\n",
      "{'metric': 'manhattan', 'n_neighbors': 19, 'weights': 'distance'}\n",
      "              precision    recall  f1-score   support\n",
      "\n",
      "        blue       0.77      0.77      0.77      2693\n",
      "         red       0.77      0.77      0.77      2667\n",
      "\n",
      "    accuracy                           0.77      5360\n",
      "   macro avg       0.77      0.77      0.77      5360\n",
      "weighted avg       0.77      0.77      0.77      5360\n",
      "\n"
     ]
    }
   ],
   "source": [
    "knn_grid_params = {\n",
    "    'n_neighbors': [3, 5, 11, 19],\n",
    "    'weights': ['uniform', 'distance'],\n",
    "    'metric': ['euclidean', 'manhattan']\n",
    "}\n",
    "knn = KNeighborsClassifier()\n",
    "knn_gs = GridSearchCV(knn, knn_grid_params, verbose=1, cv=3)\n",
    "knn_gs.fit(X_train, y_train)\n",
    "print(knn_gs.best_params_)\n",
    "predictions = knn_gs.predict(X_test)\n",
    "print(classification_report(y_test, predictions))"
   ]
  },
  {
   "cell_type": "markdown",
   "metadata": {},
   "source": [
    "## Gaussian Naive Bayes"
   ]
  },
  {
   "cell_type": "code",
   "execution_count": 52,
   "metadata": {},
   "outputs": [
    {
     "name": "stdout",
     "output_type": "stream",
     "text": [
      "              precision    recall  f1-score   support\n",
      "\n",
      "        blue       0.64      0.95      0.76      2693\n",
      "         red       0.90      0.46      0.61      2667\n",
      "\n",
      "    accuracy                           0.71      5360\n",
      "   macro avg       0.77      0.71      0.69      5360\n",
      "weighted avg       0.77      0.71      0.69      5360\n",
      "\n"
     ]
    }
   ],
   "source": [
    "gnb = GaussianNB()\n",
    "gnb.fit(X_train, y_train)\n",
    "predictions = gnb.predict(X_test)\n",
    "print(classification_report(y_test, predictions))"
   ]
  },
  {
   "cell_type": "markdown",
   "metadata": {},
   "source": [
    "## Random Forest Classification"
   ]
  },
  {
   "cell_type": "code",
   "execution_count": 54,
   "metadata": {},
   "outputs": [
    {
     "name": "stdout",
     "output_type": "stream",
     "text": [
      "Fitting 3 folds for each of 72 candidates, totalling 216 fits\n",
      "{'criterion': 'gini', 'max_features': 'log2', 'min_samples_split': 4, 'n_estimators': 200}\n",
      "              precision    recall  f1-score   support\n",
      "\n",
      "        blue       0.79      0.79      0.79      2693\n",
      "         red       0.78      0.79      0.79      2667\n",
      "\n",
      "    accuracy                           0.79      5360\n",
      "   macro avg       0.79      0.79      0.79      5360\n",
      "weighted avg       0.79      0.79      0.79      5360\n",
      "\n"
     ]
    }
   ],
   "source": [
    "rf_grid_params = {\n",
    "    'n_estimators': [10, 50, 100],\n",
    "    'criterion': ['gini', 'entropy'],\n",
    "    'min_samples_split': [2, 4, 6],\n",
    "    'max_features': ['auto', 'sqrt', 'log2']\n",
    "}\n",
    "rf = RandomForestClassifier(random_state=random_state, n_jobs=-1)\n",
    "rf_gs = GridSearchCV(rf, rf_grid_params, verbose=1, cv=3)\n",
    "rf_gs.fit(X_train, y_train)\n",
    "print(rf_gs.best_params_)\n",
    "predictions = rf_gs.predict(X_test)\n",
    "print(classification_report(y_test, predictions))"
   ]
  },
  {
   "cell_type": "markdown",
   "metadata": {},
   "source": [
    "## ExtraTrees Classifier"
   ]
  },
  {
   "cell_type": "code",
   "execution_count": 57,
   "metadata": {},
   "outputs": [
    {
     "name": "stdout",
     "output_type": "stream",
     "text": [
      "Fitting 3 folds for each of 54 candidates, totalling 162 fits\n",
      "{'criterion': 'gini', 'max_features': 'auto', 'min_samples_split': 2, 'n_estimators': 100}\n",
      "              precision    recall  f1-score   support\n",
      "\n",
      "        blue       0.79      0.79      0.79      2693\n",
      "         red       0.79      0.79      0.79      2667\n",
      "\n",
      "    accuracy                           0.79      5360\n",
      "   macro avg       0.79      0.79      0.79      5360\n",
      "weighted avg       0.79      0.79      0.79      5360\n",
      "\n"
     ]
    }
   ],
   "source": [
    "et_grid_params = {\n",
    "    'n_estimators': [10, 50, 100],\n",
    "    'criterion': ['gini', 'entropy'],\n",
    "    'min_samples_split': [2, 4, 6],\n",
    "    'max_features': ['auto', 'sqrt', 'log2']\n",
    "}\n",
    "et = ExtraTreesClassifier(random_state=random_state)\n",
    "et_gs = GridSearchCV(et, et_grid_params, verbose=1, cv=3, n_jobs=-1)\n",
    "et_gs.fit(X_train, y_train)\n",
    "print(et_gs.best_params_)\n",
    "predictions = et_gs.predict(X_test)\n",
    "print(classification_report(y_test, predictions))"
   ]
  },
  {
   "cell_type": "markdown",
   "metadata": {},
   "source": [
    "## AdaBoost Classifier"
   ]
  },
  {
   "cell_type": "code",
   "execution_count": 58,
   "metadata": {},
   "outputs": [
    {
     "name": "stdout",
     "output_type": "stream",
     "text": [
      "Fitting 3 folds for each of 15 candidates, totalling 45 fits\n",
      "{'learning_rate': 0.9, 'n_estimators': 100}\n",
      "              precision    recall  f1-score   support\n",
      "\n",
      "        blue       0.77      0.77      0.77      2693\n",
      "         red       0.77      0.77      0.77      2667\n",
      "\n",
      "    accuracy                           0.77      5360\n",
      "   macro avg       0.77      0.77      0.77      5360\n",
      "weighted avg       0.77      0.77      0.77      5360\n",
      "\n"
     ]
    }
   ],
   "source": [
    "ada_grid_params = {\n",
    "    'n_estimators': [10, 50, 100],\n",
    "    'learning_rate': [0.9, 0.95, 1.0, 1.05, 1.1]\n",
    "}\n",
    "ada = AdaBoostClassifier(random_state=random_state)\n",
    "ada_gs = GridSearchCV(ada, ada_grid_params, verbose=1, cv=3, n_jobs=-1)\n",
    "ada_gs.fit(X_train, y_train)\n",
    "print(ada_gs.best_params_)\n",
    "predictions = ada_gs.predict(X_test)\n",
    "print(classification_report(y_test, predictions))"
   ]
  },
  {
   "cell_type": "code",
   "execution_count": null,
   "metadata": {},
   "outputs": [],
   "source": []
  }
 ],
 "metadata": {
  "kernelspec": {
   "display_name": "Python 3",
   "language": "python",
   "name": "python3"
  },
  "language_info": {
   "codemirror_mode": {
    "name": "ipython",
    "version": 3
   },
   "file_extension": ".py",
   "mimetype": "text/x-python",
   "name": "python",
   "nbconvert_exporter": "python",
   "pygments_lexer": "ipython3",
   "version": "3.9.7"
  }
 },
 "nbformat": 4,
 "nbformat_minor": 4
}
