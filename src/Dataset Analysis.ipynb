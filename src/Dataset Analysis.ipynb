{
 "cells": [
  {
   "cell_type": "code",
   "execution_count": 1,
   "metadata": {},
   "outputs": [],
   "source": [
    "import pandas as pd\n",
    "\n",
    "# Data visualization\n",
    "import seaborn as sns\n",
    "import matplotlib.pyplot as plt\n",
    "\n",
    "# Data preprocessing\n",
    "from sklearn.preprocessing import MinMaxScaler\n",
    "from sklearn.model_selection import train_test_split\n",
    "\n",
    "# Machine Learning Packages\n",
    "from sklearn.ensemble import RandomForestClassifier, AdaBoostClassifier, ExtraTreesClassifier\n",
    "from sklearn.model_selection import GridSearchCV\n",
    "from sklearn.linear_model import LogisticRegressionCV\n",
    "from sklearn.naive_bayes import GaussianNB, CategoricalNB\n",
    "from sklearn.neighbors import KNeighborsClassifier\n",
    "from sklearn.svm import SVC\n",
    "\n",
    "# Prediction Metrics\n",
    "from sklearn.metrics import classification_report, accuracy_score"
   ]
  },
  {
   "cell_type": "markdown",
   "metadata": {},
   "source": [
    "## Load all of the csv's from data folder"
   ]
  },
  {
   "cell_type": "code",
   "execution_count": 9,
   "metadata": {},
   "outputs": [],
   "source": [
    "from os import listdir, getcwd\n",
    "from pathlib import Path\n",
    "def load_data(filename=None):\n",
    "    \"\"\"\n",
    "    Loads the timeline data from the data folder.\n",
    "    \"\"\"\n",
    "    # Join file locaition from absolute path to root\n",
    "    ROOT_PATH = str(Path(getcwd()).parents[0])\n",
    "    DATA_LOC = ROOT_PATH + '/data/'\n",
    "    \n",
    "    if filename:\n",
    "        return pd.read_csv(DATA_LOC+filename)\n",
    "\n",
    "    # try to get Get all directory file names\n",
    "    files_names = listdir(DATA_LOC)\n",
    "    \n",
    "    # Check Type\n",
    "    valid_file_names = [f for f in files_names if f.split('.')[1] == 'csv']\n",
    "    \n",
    "    # Load Pickle Files\n",
    "    dataframes = []\n",
    "    for filename in valid_file_names:\n",
    "        if filename.split('_')[0] == \"UNSEENDATA\":\n",
    "            continue\n",
    "        dataframes.append(pd.read_csv(DATA_LOC+filename))\n",
    "    return dataframes"
   ]
  },
  {
   "cell_type": "code",
   "execution_count": 10,
   "metadata": {},
   "outputs": [],
   "source": [
    "# Load completely new data that is never seen before\n",
    "testing_df = load_data('UNSEENDATA_oWill.csv')"
   ]
  },
  {
   "cell_type": "code",
   "execution_count": 3,
   "metadata": {},
   "outputs": [],
   "source": [
    "dataframes = load_data()"
   ]
  },
  {
   "cell_type": "code",
   "execution_count": 4,
   "metadata": {},
   "outputs": [
    {
     "data": {
      "text/plain": [
       "44"
      ]
     },
     "execution_count": 4,
     "metadata": {},
     "output_type": "execute_result"
    }
   ],
   "source": [
    "# Successfully got all of the data!\n",
    "len(dataframes)"
   ]
  },
  {
   "cell_type": "code",
   "execution_count": 6,
   "metadata": {},
   "outputs": [],
   "source": [
    "# Combines the dataframes\n",
    "df = pd.concat(dataframes)"
   ]
  },
  {
   "cell_type": "code",
   "execution_count": 14,
   "metadata": {},
   "outputs": [],
   "source": [
    "df = df.drop('Unnamed: 0', axis=1)"
   ]
  },
  {
   "cell_type": "code",
   "execution_count": 15,
   "metadata": {},
   "outputs": [
    {
     "data": {
      "text/plain": [
       "(24713, 35)"
      ]
     },
     "execution_count": 15,
     "metadata": {},
     "output_type": "execute_result"
    }
   ],
   "source": [
    "df.shape"
   ]
  },
  {
   "cell_type": "code",
   "execution_count": 16,
   "metadata": {},
   "outputs": [
    {
     "data": {
      "text/plain": [
       "Index(['blue_gold', 'blue_cs', 'blue_jg', 'blue_xp', 'red_gold', 'red_cs',\n",
       "       'red_jg', 'red_xp', 'blue_wards_placed', 'blue_wards_destroyed',\n",
       "       'blue_air_dragons', 'blue_fire_dragons', 'blue_earth_dragons',\n",
       "       'blue_water_dragons', 'blue_turrets_destroyed', 'blue_rift_heralds',\n",
       "       'blue_inhibitors_destroyed', 'blue_kills', 'blue_assists',\n",
       "       'blue_deaths', 'red_wards_placed', 'red_wards_destroyed',\n",
       "       'red_air_dragons', 'red_fire_dragons', 'red_earth_dragons',\n",
       "       'red_water_dragons', 'red_turrets_destroyed', 'red_rift_heralds',\n",
       "       'red_inhibitors_destroyed', 'red_kills', 'red_assists', 'red_deaths',\n",
       "       'unix_date', 'winner', 'match_id'],\n",
       "      dtype='object')"
      ]
     },
     "execution_count": 16,
     "metadata": {},
     "output_type": "execute_result"
    }
   ],
   "source": [
    "df.columns"
   ]
  },
  {
   "cell_type": "markdown",
   "metadata": {},
   "source": [
    "## Next, let's get an overview of the data we're working with\n",
    "### Features\n",
    "Each feature listed below is split into different teams, with the prefixes of \"blue_\" and \"red_\".\n",
    "<ul> \n",
    "<li>Gold: Total gold accumulated. (Gold can be used to purchase items which can increase a player's strength.)</li>\n",
    "<li>CS: Number creeps killed. (Killing a creep gives different amounts of gold.)</li>\n",
    "<li>JG: Number of jungle creeps killed. (Same as above.)</li>\n",
    "<li>XP: Total experience accumulated. (This is gained from killing enemies, being in the vicinity of a creep kill, or killing an object.</li>\n",
    "<li>Wards Placed: Number of wards placed. (Wards reveal areas of the map to spot enemies.)</li>\n",
    "<li>Wards Destroyed: Number of enemy wards destroyed.</li>\n",
    "<li>Dragons: Number of that type of dragon killed. (Different dragon types give different advantages to the team that kills them.)</li>\n",
    "<li>Heralds: Number of heralds killed. (These give gold, xp, and when used can do significant damage to towers.)</li>\n",
    "<li>Turrets Destroyed: Number of enemy turrets destroyed. (Killing a turret opens up parts of the map.)</li>\n",
    "<li>Inhibs Destroyed: Number of enemy inhibitors destroyed. (Killing an inhib allows your team to have stronger creeps in that lane.)</li>\n",
    "<li>Kills: Number of enemies killed.</li>\n",
    "<li>Assists: Number of assists on an enemy killed.</li>\n",
    "<li>Deaths: Number of deaths of the team.</li>\n",
    "</ul>\n",
    "\n",
    "### Target\n",
    "Winner: The team which one the game."
   ]
  },
  {
   "cell_type": "code",
   "execution_count": 17,
   "metadata": {},
   "outputs": [
    {
     "name": "stdout",
     "output_type": "stream",
     "text": [
      "<class 'pandas.core.frame.DataFrame'>\n",
      "Int64Index: 24713 entries, 0 to 403\n",
      "Data columns (total 35 columns):\n",
      " #   Column                     Non-Null Count  Dtype \n",
      "---  ------                     --------------  ----- \n",
      " 0   blue_gold                  24713 non-null  int64 \n",
      " 1   blue_cs                    24713 non-null  int64 \n",
      " 2   blue_jg                    24713 non-null  int64 \n",
      " 3   blue_xp                    24713 non-null  int64 \n",
      " 4   red_gold                   24713 non-null  int64 \n",
      " 5   red_cs                     24713 non-null  int64 \n",
      " 6   red_jg                     24713 non-null  int64 \n",
      " 7   red_xp                     24713 non-null  int64 \n",
      " 8   blue_wards_placed          24713 non-null  int64 \n",
      " 9   blue_wards_destroyed       24713 non-null  int64 \n",
      " 10  blue_air_dragons           24713 non-null  int64 \n",
      " 11  blue_fire_dragons          24713 non-null  int64 \n",
      " 12  blue_earth_dragons         24713 non-null  int64 \n",
      " 13  blue_water_dragons         24713 non-null  int64 \n",
      " 14  blue_turrets_destroyed     24713 non-null  int64 \n",
      " 15  blue_rift_heralds          24713 non-null  int64 \n",
      " 16  blue_inhibitors_destroyed  24713 non-null  int64 \n",
      " 17  blue_kills                 24713 non-null  int64 \n",
      " 18  blue_assists               24713 non-null  int64 \n",
      " 19  blue_deaths                24713 non-null  int64 \n",
      " 20  red_wards_placed           24713 non-null  int64 \n",
      " 21  red_wards_destroyed        24713 non-null  int64 \n",
      " 22  red_air_dragons            24713 non-null  int64 \n",
      " 23  red_fire_dragons           24713 non-null  int64 \n",
      " 24  red_earth_dragons          24713 non-null  int64 \n",
      " 25  red_water_dragons          24713 non-null  int64 \n",
      " 26  red_turrets_destroyed      24713 non-null  int64 \n",
      " 27  red_rift_heralds           24713 non-null  int64 \n",
      " 28  red_inhibitors_destroyed   24713 non-null  int64 \n",
      " 29  red_kills                  24713 non-null  int64 \n",
      " 30  red_assists                24713 non-null  int64 \n",
      " 31  red_deaths                 24713 non-null  int64 \n",
      " 32  unix_date                  24713 non-null  int64 \n",
      " 33  winner                     24713 non-null  object\n",
      " 34  match_id                   24713 non-null  object\n",
      "dtypes: int64(33), object(2)\n",
      "memory usage: 7.3+ MB\n"
     ]
    }
   ],
   "source": [
    "# We have no nulls and everything is an integer besides our target.\n",
    "df.info()"
   ]
  },
  {
   "cell_type": "code",
   "execution_count": 18,
   "metadata": {},
   "outputs": [
    {
     "data": {
      "text/html": [
       "<div>\n",
       "<style scoped>\n",
       "    .dataframe tbody tr th:only-of-type {\n",
       "        vertical-align: middle;\n",
       "    }\n",
       "\n",
       "    .dataframe tbody tr th {\n",
       "        vertical-align: top;\n",
       "    }\n",
       "\n",
       "    .dataframe thead th {\n",
       "        text-align: right;\n",
       "    }\n",
       "</style>\n",
       "<table border=\"1\" class=\"dataframe\">\n",
       "  <thead>\n",
       "    <tr style=\"text-align: right;\">\n",
       "      <th></th>\n",
       "      <th>blue_gold</th>\n",
       "      <th>blue_cs</th>\n",
       "      <th>blue_jg</th>\n",
       "      <th>blue_xp</th>\n",
       "      <th>red_gold</th>\n",
       "      <th>red_cs</th>\n",
       "      <th>red_jg</th>\n",
       "      <th>red_xp</th>\n",
       "      <th>blue_wards_placed</th>\n",
       "      <th>blue_wards_destroyed</th>\n",
       "      <th>...</th>\n",
       "      <th>red_fire_dragons</th>\n",
       "      <th>red_earth_dragons</th>\n",
       "      <th>red_water_dragons</th>\n",
       "      <th>red_turrets_destroyed</th>\n",
       "      <th>red_rift_heralds</th>\n",
       "      <th>red_inhibitors_destroyed</th>\n",
       "      <th>red_kills</th>\n",
       "      <th>red_assists</th>\n",
       "      <th>red_deaths</th>\n",
       "      <th>unix_date</th>\n",
       "    </tr>\n",
       "  </thead>\n",
       "  <tbody>\n",
       "    <tr>\n",
       "      <th>count</th>\n",
       "      <td>24713.000000</td>\n",
       "      <td>24713.000000</td>\n",
       "      <td>24713.000000</td>\n",
       "      <td>24713.000000</td>\n",
       "      <td>24713.000000</td>\n",
       "      <td>24713.000000</td>\n",
       "      <td>24713.000000</td>\n",
       "      <td>24713.000000</td>\n",
       "      <td>24713.000000</td>\n",
       "      <td>24713.000000</td>\n",
       "      <td>...</td>\n",
       "      <td>24713.000000</td>\n",
       "      <td>24713.000000</td>\n",
       "      <td>24713.000000</td>\n",
       "      <td>24713.000000</td>\n",
       "      <td>24713.000000</td>\n",
       "      <td>24713.000000</td>\n",
       "      <td>24713.000000</td>\n",
       "      <td>24713.000000</td>\n",
       "      <td>24713.000000</td>\n",
       "      <td>2.471300e+04</td>\n",
       "    </tr>\n",
       "    <tr>\n",
       "      <th>mean</th>\n",
       "      <td>26270.005260</td>\n",
       "      <td>321.422854</td>\n",
       "      <td>81.600008</td>\n",
       "      <td>28984.939667</td>\n",
       "      <td>26252.566908</td>\n",
       "      <td>322.546554</td>\n",
       "      <td>83.666046</td>\n",
       "      <td>29102.318577</td>\n",
       "      <td>24.735362</td>\n",
       "      <td>5.618784</td>\n",
       "      <td>...</td>\n",
       "      <td>0.209890</td>\n",
       "      <td>0.214543</td>\n",
       "      <td>0.217902</td>\n",
       "      <td>0.616518</td>\n",
       "      <td>0.363048</td>\n",
       "      <td>0.001619</td>\n",
       "      <td>11.548820</td>\n",
       "      <td>12.403998</td>\n",
       "      <td>11.564480</td>\n",
       "      <td>1.622294e+12</td>\n",
       "    </tr>\n",
       "    <tr>\n",
       "      <th>std</th>\n",
       "      <td>2894.980752</td>\n",
       "      <td>41.902931</td>\n",
       "      <td>15.460828</td>\n",
       "      <td>2143.734811</td>\n",
       "      <td>2871.824562</td>\n",
       "      <td>42.167432</td>\n",
       "      <td>15.619454</td>\n",
       "      <td>2157.287478</td>\n",
       "      <td>4.565436</td>\n",
       "      <td>2.881562</td>\n",
       "      <td>...</td>\n",
       "      <td>0.407238</td>\n",
       "      <td>0.410513</td>\n",
       "      <td>0.412828</td>\n",
       "      <td>0.846382</td>\n",
       "      <td>0.481897</td>\n",
       "      <td>0.042165</td>\n",
       "      <td>4.654784</td>\n",
       "      <td>6.267425</td>\n",
       "      <td>4.718498</td>\n",
       "      <td>8.414153e+09</td>\n",
       "    </tr>\n",
       "    <tr>\n",
       "      <th>min</th>\n",
       "      <td>16727.000000</td>\n",
       "      <td>116.000000</td>\n",
       "      <td>0.000000</td>\n",
       "      <td>16943.000000</td>\n",
       "      <td>15032.000000</td>\n",
       "      <td>126.000000</td>\n",
       "      <td>0.000000</td>\n",
       "      <td>18046.000000</td>\n",
       "      <td>3.000000</td>\n",
       "      <td>0.000000</td>\n",
       "      <td>...</td>\n",
       "      <td>0.000000</td>\n",
       "      <td>0.000000</td>\n",
       "      <td>0.000000</td>\n",
       "      <td>0.000000</td>\n",
       "      <td>0.000000</td>\n",
       "      <td>0.000000</td>\n",
       "      <td>0.000000</td>\n",
       "      <td>0.000000</td>\n",
       "      <td>0.000000</td>\n",
       "      <td>1.607601e+12</td>\n",
       "    </tr>\n",
       "    <tr>\n",
       "      <th>25%</th>\n",
       "      <td>24252.000000</td>\n",
       "      <td>295.000000</td>\n",
       "      <td>72.000000</td>\n",
       "      <td>27588.000000</td>\n",
       "      <td>24267.000000</td>\n",
       "      <td>296.000000</td>\n",
       "      <td>72.000000</td>\n",
       "      <td>27690.000000</td>\n",
       "      <td>22.000000</td>\n",
       "      <td>4.000000</td>\n",
       "      <td>...</td>\n",
       "      <td>0.000000</td>\n",
       "      <td>0.000000</td>\n",
       "      <td>0.000000</td>\n",
       "      <td>0.000000</td>\n",
       "      <td>0.000000</td>\n",
       "      <td>0.000000</td>\n",
       "      <td>8.000000</td>\n",
       "      <td>8.000000</td>\n",
       "      <td>8.000000</td>\n",
       "      <td>1.615064e+12</td>\n",
       "    </tr>\n",
       "    <tr>\n",
       "      <th>50%</th>\n",
       "      <td>26089.000000</td>\n",
       "      <td>324.000000</td>\n",
       "      <td>81.000000</td>\n",
       "      <td>28982.000000</td>\n",
       "      <td>26078.000000</td>\n",
       "      <td>325.000000</td>\n",
       "      <td>84.000000</td>\n",
       "      <td>29131.000000</td>\n",
       "      <td>25.000000</td>\n",
       "      <td>5.000000</td>\n",
       "      <td>...</td>\n",
       "      <td>0.000000</td>\n",
       "      <td>0.000000</td>\n",
       "      <td>0.000000</td>\n",
       "      <td>0.000000</td>\n",
       "      <td>0.000000</td>\n",
       "      <td>0.000000</td>\n",
       "      <td>11.000000</td>\n",
       "      <td>12.000000</td>\n",
       "      <td>11.000000</td>\n",
       "      <td>1.621099e+12</td>\n",
       "    </tr>\n",
       "    <tr>\n",
       "      <th>75%</th>\n",
       "      <td>28093.000000</td>\n",
       "      <td>351.000000</td>\n",
       "      <td>92.000000</td>\n",
       "      <td>30408.000000</td>\n",
       "      <td>28076.000000</td>\n",
       "      <td>352.000000</td>\n",
       "      <td>94.000000</td>\n",
       "      <td>30539.000000</td>\n",
       "      <td>28.000000</td>\n",
       "      <td>7.000000</td>\n",
       "      <td>...</td>\n",
       "      <td>0.000000</td>\n",
       "      <td>0.000000</td>\n",
       "      <td>0.000000</td>\n",
       "      <td>1.000000</td>\n",
       "      <td>1.000000</td>\n",
       "      <td>0.000000</td>\n",
       "      <td>14.000000</td>\n",
       "      <td>16.000000</td>\n",
       "      <td>14.000000</td>\n",
       "      <td>1.630219e+12</td>\n",
       "    </tr>\n",
       "    <tr>\n",
       "      <th>max</th>\n",
       "      <td>38326.000000</td>\n",
       "      <td>459.000000</td>\n",
       "      <td>146.000000</td>\n",
       "      <td>37106.000000</td>\n",
       "      <td>40144.000000</td>\n",
       "      <td>468.000000</td>\n",
       "      <td>147.000000</td>\n",
       "      <td>37272.000000</td>\n",
       "      <td>111.000000</td>\n",
       "      <td>23.000000</td>\n",
       "      <td>...</td>\n",
       "      <td>1.000000</td>\n",
       "      <td>1.000000</td>\n",
       "      <td>1.000000</td>\n",
       "      <td>8.000000</td>\n",
       "      <td>2.000000</td>\n",
       "      <td>2.000000</td>\n",
       "      <td>39.000000</td>\n",
       "      <td>75.000000</td>\n",
       "      <td>43.000000</td>\n",
       "      <td>1.636983e+12</td>\n",
       "    </tr>\n",
       "  </tbody>\n",
       "</table>\n",
       "<p>8 rows × 33 columns</p>\n",
       "</div>"
      ],
      "text/plain": [
       "          blue_gold       blue_cs       blue_jg       blue_xp      red_gold  \\\n",
       "count  24713.000000  24713.000000  24713.000000  24713.000000  24713.000000   \n",
       "mean   26270.005260    321.422854     81.600008  28984.939667  26252.566908   \n",
       "std     2894.980752     41.902931     15.460828   2143.734811   2871.824562   \n",
       "min    16727.000000    116.000000      0.000000  16943.000000  15032.000000   \n",
       "25%    24252.000000    295.000000     72.000000  27588.000000  24267.000000   \n",
       "50%    26089.000000    324.000000     81.000000  28982.000000  26078.000000   \n",
       "75%    28093.000000    351.000000     92.000000  30408.000000  28076.000000   \n",
       "max    38326.000000    459.000000    146.000000  37106.000000  40144.000000   \n",
       "\n",
       "             red_cs        red_jg        red_xp  blue_wards_placed  \\\n",
       "count  24713.000000  24713.000000  24713.000000       24713.000000   \n",
       "mean     322.546554     83.666046  29102.318577          24.735362   \n",
       "std       42.167432     15.619454   2157.287478           4.565436   \n",
       "min      126.000000      0.000000  18046.000000           3.000000   \n",
       "25%      296.000000     72.000000  27690.000000          22.000000   \n",
       "50%      325.000000     84.000000  29131.000000          25.000000   \n",
       "75%      352.000000     94.000000  30539.000000          28.000000   \n",
       "max      468.000000    147.000000  37272.000000         111.000000   \n",
       "\n",
       "       blue_wards_destroyed  ...  red_fire_dragons  red_earth_dragons  \\\n",
       "count          24713.000000  ...      24713.000000       24713.000000   \n",
       "mean               5.618784  ...          0.209890           0.214543   \n",
       "std                2.881562  ...          0.407238           0.410513   \n",
       "min                0.000000  ...          0.000000           0.000000   \n",
       "25%                4.000000  ...          0.000000           0.000000   \n",
       "50%                5.000000  ...          0.000000           0.000000   \n",
       "75%                7.000000  ...          0.000000           0.000000   \n",
       "max               23.000000  ...          1.000000           1.000000   \n",
       "\n",
       "       red_water_dragons  red_turrets_destroyed  red_rift_heralds  \\\n",
       "count       24713.000000           24713.000000      24713.000000   \n",
       "mean            0.217902               0.616518          0.363048   \n",
       "std             0.412828               0.846382          0.481897   \n",
       "min             0.000000               0.000000          0.000000   \n",
       "25%             0.000000               0.000000          0.000000   \n",
       "50%             0.000000               0.000000          0.000000   \n",
       "75%             0.000000               1.000000          1.000000   \n",
       "max             1.000000               8.000000          2.000000   \n",
       "\n",
       "       red_inhibitors_destroyed     red_kills   red_assists    red_deaths  \\\n",
       "count              24713.000000  24713.000000  24713.000000  24713.000000   \n",
       "mean                   0.001619     11.548820     12.403998     11.564480   \n",
       "std                    0.042165      4.654784      6.267425      4.718498   \n",
       "min                    0.000000      0.000000      0.000000      0.000000   \n",
       "25%                    0.000000      8.000000      8.000000      8.000000   \n",
       "50%                    0.000000     11.000000     12.000000     11.000000   \n",
       "75%                    0.000000     14.000000     16.000000     14.000000   \n",
       "max                    2.000000     39.000000     75.000000     43.000000   \n",
       "\n",
       "          unix_date  \n",
       "count  2.471300e+04  \n",
       "mean   1.622294e+12  \n",
       "std    8.414153e+09  \n",
       "min    1.607601e+12  \n",
       "25%    1.615064e+12  \n",
       "50%    1.621099e+12  \n",
       "75%    1.630219e+12  \n",
       "max    1.636983e+12  \n",
       "\n",
       "[8 rows x 33 columns]"
      ]
     },
     "execution_count": 18,
     "metadata": {},
     "output_type": "execute_result"
    }
   ],
   "source": [
    "df.describe()"
   ]
  },
  {
   "cell_type": "markdown",
   "metadata": {},
   "source": [
    "### Distribution of target\n",
    "We have a good distribution of the target variable! These are from random samples, so maybe we can assume our data is also normally distributed?"
   ]
  },
  {
   "cell_type": "code",
   "execution_count": 19,
   "metadata": {},
   "outputs": [
    {
     "data": {
      "image/png": "[encoded data removed]",
      "text/plain": [
       "<Figure size 432x288 with 1 Axes>"
      ]
     },
     "metadata": {
      "needs_background": "light"
     },
     "output_type": "display_data"
    }
   ],
   "source": [
    "ax = df['winner'].value_counts().plot.bar(rot=0)\n",
    "for container in ax.containers:\n",
    "    ax.bar_label(container)\n",
    "plt.show()"
   ]
  },
  {
   "cell_type": "markdown",
   "metadata": {},
   "source": [
    "### Distributions of the target in regards to the features"
   ]
  },
  {
   "cell_type": "code",
   "execution_count": 20,
   "metadata": {},
   "outputs": [],
   "source": [
    "def compare_by_winner(feature, data):\n",
    "    # Get subset with winner\n",
    "    sub_blue = data[data['winner'] == 'blue']\n",
    "    sub_red = data[data['winner'] == 'red']\n",
    "\n",
    "    cols = [col for col in data.columns if feature.lower() in col.lower()]\n",
    "\n",
    "    fig, ax = plt.subplots(1, 2, figsize=(10, 8))\n",
    "\n",
    "    # Plot when blue wins\n",
    "    sns.boxplot(ax=ax[0], data=sub_blue[cols])\n",
    "    ax[0].set_title(\"Blue Win\")\n",
    "\n",
    "    # Plot when red wins\n",
    "    sns.boxplot(ax=ax[1], data=sub_red[cols])\n",
    "    ax[1].set_title(\"Red Win\")\n"
   ]
  },
  {
   "cell_type": "markdown",
   "metadata": {},
   "source": [
    "### Gold"
   ]
  },
  {
   "cell_type": "code",
   "execution_count": 21,
   "metadata": {},
   "outputs": [
    {
     "data": {
      "image/png": "[encoded data removed]",
      "text/plain": [
       "<Figure size 720x576 with 2 Axes>"
      ]
     },
     "metadata": {
      "needs_background": "light"
     },
     "output_type": "display_data"
    }
   ],
   "source": [
    "compare_by_winner('gold', df)"
   ]
  },
  {
   "cell_type": "markdown",
   "metadata": {},
   "source": [
    "### Creep Score (CS)"
   ]
  },
  {
   "cell_type": "code",
   "execution_count": 22,
   "metadata": {},
   "outputs": [
    {
     "data": {
      "image/png": "[encoded data removed]",
      "text/plain": [
       "<Figure size 720x576 with 2 Axes>"
      ]
     },
     "metadata": {
      "needs_background": "light"
     },
     "output_type": "display_data"
    }
   ],
   "source": [
    "compare_by_winner('cs', df)"
   ]
  },
  {
   "cell_type": "markdown",
   "metadata": {},
   "source": [
    "### Experience (XP)"
   ]
  },
  {
   "cell_type": "code",
   "execution_count": 23,
   "metadata": {},
   "outputs": [
    {
     "data": {
      "image/png": "[encoded data removed]",
      "text/plain": [
       "<Figure size 720x576 with 2 Axes>"
      ]
     },
     "metadata": {
      "needs_background": "light"
     },
     "output_type": "display_data"
    }
   ],
   "source": [
    "compare_by_winner('xp', df)"
   ]
  },
  {
   "cell_type": "markdown",
   "metadata": {},
   "source": [
    "### Jungle (JG)"
   ]
  },
  {
   "cell_type": "code",
   "execution_count": 24,
   "metadata": {},
   "outputs": [
    {
     "data": {
      "image/png": "[encoded data removed]",
      "text/plain": [
       "<Figure size 720x576 with 2 Axes>"
      ]
     },
     "metadata": {
      "needs_background": "light"
     },
     "output_type": "display_data"
    }
   ],
   "source": [
    "compare_by_winner('jg', df)"
   ]
  },
  {
   "cell_type": "markdown",
   "metadata": {},
   "source": [
    "### Wards Placed"
   ]
  },
  {
   "cell_type": "code",
   "execution_count": 25,
   "metadata": {},
   "outputs": [
    {
     "data": {
      "image/png": "[encoded data removed]",
      "text/plain": [
       "<Figure size 720x576 with 2 Axes>"
      ]
     },
     "metadata": {
      "needs_background": "light"
     },
     "output_type": "display_data"
    }
   ],
   "source": [
    "compare_by_winner('wards_placed', df)"
   ]
  },
  {
   "cell_type": "markdown",
   "metadata": {},
   "source": [
    "### Wards Destroyed"
   ]
  },
  {
   "cell_type": "code",
   "execution_count": 26,
   "metadata": {},
   "outputs": [
    {
     "data": {
      "image/png": "[encoded data removed]",
      "text/plain": [
       "<Figure size 720x576 with 2 Axes>"
      ]
     },
     "metadata": {
      "needs_background": "light"
     },
     "output_type": "display_data"
    }
   ],
   "source": [
    "compare_by_winner('wards_destroyed', df)"
   ]
  },
  {
   "cell_type": "markdown",
   "metadata": {},
   "source": [
    "### Fire Dragons"
   ]
  },
  {
   "cell_type": "code",
   "execution_count": 27,
   "metadata": {},
   "outputs": [
    {
     "data": {
      "image/png": "[encoded data removed]",
      "text/plain": [
       "<Figure size 720x576 with 2 Axes>"
      ]
     },
     "metadata": {
      "needs_background": "light"
     },
     "output_type": "display_data"
    }
   ],
   "source": [
    "compare_by_winner('fire_dragons', df)"
   ]
  },
  {
   "cell_type": "markdown",
   "metadata": {},
   "source": [
    "### Air Dragons"
   ]
  },
  {
   "cell_type": "code",
   "execution_count": 28,
   "metadata": {},
   "outputs": [
    {
     "data": {
      "image/png": "[encoded data removed]",
      "text/plain": [
       "<Figure size 720x576 with 2 Axes>"
      ]
     },
     "metadata": {
      "needs_background": "light"
     },
     "output_type": "display_data"
    }
   ],
   "source": [
    "compare_by_winner('air_dragons', df)"
   ]
  },
  {
   "cell_type": "markdown",
   "metadata": {},
   "source": [
    "### Water Dragons"
   ]
  },
  {
   "cell_type": "code",
   "execution_count": 29,
   "metadata": {},
   "outputs": [
    {
     "data": {
      "image/png": "[encoded data removed]",
      "text/plain": [
       "<Figure size 720x576 with 2 Axes>"
      ]
     },
     "metadata": {
      "needs_background": "light"
     },
     "output_type": "display_data"
    }
   ],
   "source": [
    "compare_by_winner('water_dragons', df)"
   ]
  },
  {
   "cell_type": "markdown",
   "metadata": {},
   "source": [
    "### Earth Dragons"
   ]
  },
  {
   "cell_type": "code",
   "execution_count": 30,
   "metadata": {},
   "outputs": [
    {
     "data": {
      "image/png": "[encoded data removed]",
      "text/plain": [
       "<Figure size 720x576 with 2 Axes>"
      ]
     },
     "metadata": {
      "needs_background": "light"
     },
     "output_type": "display_data"
    }
   ],
   "source": [
    "compare_by_winner('earth_dragons', df)"
   ]
  },
  {
   "cell_type": "markdown",
   "metadata": {},
   "source": [
    "### Heralds"
   ]
  },
  {
   "cell_type": "code",
   "execution_count": 31,
   "metadata": {},
   "outputs": [
    {
     "data": {
      "image/png": "[encoded data removed]",
      "text/plain": [
       "<Figure size 720x576 with 2 Axes>"
      ]
     },
     "metadata": {
      "needs_background": "light"
     },
     "output_type": "display_data"
    }
   ],
   "source": [
    "compare_by_winner('heralds', df)"
   ]
  },
  {
   "cell_type": "markdown",
   "metadata": {},
   "source": [
    "### Turrets Destroyed"
   ]
  },
  {
   "cell_type": "code",
   "execution_count": 32,
   "metadata": {},
   "outputs": [
    {
     "data": {
      "image/png": "[encoded data removed]",
      "text/plain": [
       "<Figure size 720x576 with 2 Axes>"
      ]
     },
     "metadata": {
      "needs_background": "light"
     },
     "output_type": "display_data"
    }
   ],
   "source": [
    "compare_by_winner('turrets_destroyed', df)"
   ]
  },
  {
   "cell_type": "markdown",
   "metadata": {},
   "source": [
    "### Inhibs Destroyed"
   ]
  },
  {
   "cell_type": "code",
   "execution_count": 33,
   "metadata": {},
   "outputs": [
    {
     "data": {
      "image/png": "[encoded data removed]",
      "text/plain": [
       "<Figure size 720x576 with 2 Axes>"
      ]
     },
     "metadata": {
      "needs_background": "light"
     },
     "output_type": "display_data"
    }
   ],
   "source": [
    "compare_by_winner('inhibitors_destroyed', df)"
   ]
  },
  {
   "cell_type": "markdown",
   "metadata": {},
   "source": [
    "## Now, let's look at the distribution of some of our features"
   ]
  },
  {
   "cell_type": "code",
   "execution_count": 34,
   "metadata": {},
   "outputs": [
    {
     "data": {
      "image/png": "[encoded data removed]",
      "text/plain": [
       "<Figure size 432x288 with 1 Axes>"
      ]
     },
     "metadata": {
      "needs_background": "light"
     },
     "output_type": "display_data"
    }
   ],
   "source": [
    "plt.hist(x=df['blue_gold'], bins=25, alpha=0.5)\n",
    "plt.hist(x=df['red_gold'], bins=25, color='red', alpha=0.3)\n",
    "plt.show()"
   ]
  },
  {
   "cell_type": "markdown",
   "metadata": {},
   "source": [
    "### Experience"
   ]
  },
  {
   "cell_type": "code",
   "execution_count": 35,
   "metadata": {},
   "outputs": [
    {
     "data": {
      "image/png": "[encoded data removed]",
      "text/plain": [
       "<Figure size 432x288 with 1 Axes>"
      ]
     },
     "metadata": {
      "needs_background": "light"
     },
     "output_type": "display_data"
    }
   ],
   "source": [
    "plt.hist(x=df['blue_xp'], bins=25, alpha=0.5)\n",
    "plt.hist(x=df['red_xp'], bins=25, color='red', alpha=0.3)\n",
    "plt.show()"
   ]
  },
  {
   "cell_type": "markdown",
   "metadata": {},
   "source": [
    "## Now, let's prepare this dataset for the models"
   ]
  },
  {
   "cell_type": "markdown",
   "metadata": {},
   "source": [
    "First, let's remove the values which have colinearity with each other. For example, blue kills = red deaths, blue deaths = red kills, etc."
   ]
  },
  {
   "cell_type": "code",
   "execution_count": 36,
   "metadata": {},
   "outputs": [
    {
     "data": {
      "text/html": [
       "<div>\n",
       "<style scoped>\n",
       "    .dataframe tbody tr th:only-of-type {\n",
       "        vertical-align: middle;\n",
       "    }\n",
       "\n",
       "    .dataframe tbody tr th {\n",
       "        vertical-align: top;\n",
       "    }\n",
       "\n",
       "    .dataframe thead th {\n",
       "        text-align: right;\n",
       "    }\n",
       "</style>\n",
       "<table border=\"1\" class=\"dataframe\">\n",
       "  <thead>\n",
       "    <tr style=\"text-align: right;\">\n",
       "      <th></th>\n",
       "      <th>blue_gold</th>\n",
       "      <th>blue_cs</th>\n",
       "      <th>blue_jg</th>\n",
       "      <th>blue_xp</th>\n",
       "      <th>red_gold</th>\n",
       "      <th>red_cs</th>\n",
       "      <th>red_jg</th>\n",
       "      <th>red_xp</th>\n",
       "      <th>blue_wards_placed</th>\n",
       "      <th>blue_wards_destroyed</th>\n",
       "      <th>...</th>\n",
       "      <th>red_water_dragons</th>\n",
       "      <th>red_turrets_destroyed</th>\n",
       "      <th>red_rift_heralds</th>\n",
       "      <th>red_inhibitors_destroyed</th>\n",
       "      <th>red_kills</th>\n",
       "      <th>red_assists</th>\n",
       "      <th>red_deaths</th>\n",
       "      <th>unix_date</th>\n",
       "      <th>winner</th>\n",
       "      <th>match_id</th>\n",
       "    </tr>\n",
       "  </thead>\n",
       "  <tbody>\n",
       "    <tr>\n",
       "      <th>0</th>\n",
       "      <td>25691</td>\n",
       "      <td>250</td>\n",
       "      <td>72</td>\n",
       "      <td>27821</td>\n",
       "      <td>19835</td>\n",
       "      <td>231</td>\n",
       "      <td>59</td>\n",
       "      <td>24814</td>\n",
       "      <td>28</td>\n",
       "      <td>2</td>\n",
       "      <td>...</td>\n",
       "      <td>0</td>\n",
       "      <td>0</td>\n",
       "      <td>0</td>\n",
       "      <td>0</td>\n",
       "      <td>6</td>\n",
       "      <td>4</td>\n",
       "      <td>13</td>\n",
       "      <td>1634867567884</td>\n",
       "      <td>blue</td>\n",
       "      <td>NA1_4078001101</td>\n",
       "    </tr>\n",
       "    <tr>\n",
       "      <th>1</th>\n",
       "      <td>25076</td>\n",
       "      <td>262</td>\n",
       "      <td>69</td>\n",
       "      <td>25826</td>\n",
       "      <td>28182</td>\n",
       "      <td>257</td>\n",
       "      <td>55</td>\n",
       "      <td>29093</td>\n",
       "      <td>22</td>\n",
       "      <td>4</td>\n",
       "      <td>...</td>\n",
       "      <td>0</td>\n",
       "      <td>2</td>\n",
       "      <td>1</td>\n",
       "      <td>0</td>\n",
       "      <td>19</td>\n",
       "      <td>14</td>\n",
       "      <td>17</td>\n",
       "      <td>1636825025208</td>\n",
       "      <td>blue</td>\n",
       "      <td>NA1_4101915154</td>\n",
       "    </tr>\n",
       "    <tr>\n",
       "      <th>2</th>\n",
       "      <td>20127</td>\n",
       "      <td>246</td>\n",
       "      <td>64</td>\n",
       "      <td>26263</td>\n",
       "      <td>26342</td>\n",
       "      <td>268</td>\n",
       "      <td>97</td>\n",
       "      <td>29256</td>\n",
       "      <td>20</td>\n",
       "      <td>2</td>\n",
       "      <td>...</td>\n",
       "      <td>1</td>\n",
       "      <td>1</td>\n",
       "      <td>1</td>\n",
       "      <td>0</td>\n",
       "      <td>14</td>\n",
       "      <td>10</td>\n",
       "      <td>5</td>\n",
       "      <td>1634820716873</td>\n",
       "      <td>red</td>\n",
       "      <td>NA1_4077583193</td>\n",
       "    </tr>\n",
       "    <tr>\n",
       "      <th>3</th>\n",
       "      <td>26113</td>\n",
       "      <td>237</td>\n",
       "      <td>84</td>\n",
       "      <td>29261</td>\n",
       "      <td>25074</td>\n",
       "      <td>238</td>\n",
       "      <td>68</td>\n",
       "      <td>29710</td>\n",
       "      <td>18</td>\n",
       "      <td>2</td>\n",
       "      <td>...</td>\n",
       "      <td>0</td>\n",
       "      <td>0</td>\n",
       "      <td>0</td>\n",
       "      <td>0</td>\n",
       "      <td>15</td>\n",
       "      <td>13</td>\n",
       "      <td>15</td>\n",
       "      <td>1624056777808</td>\n",
       "      <td>blue</td>\n",
       "      <td>NA1_3948304495</td>\n",
       "    </tr>\n",
       "    <tr>\n",
       "      <th>4</th>\n",
       "      <td>23854</td>\n",
       "      <td>243</td>\n",
       "      <td>70</td>\n",
       "      <td>26088</td>\n",
       "      <td>24050</td>\n",
       "      <td>291</td>\n",
       "      <td>90</td>\n",
       "      <td>29026</td>\n",
       "      <td>21</td>\n",
       "      <td>3</td>\n",
       "      <td>...</td>\n",
       "      <td>0</td>\n",
       "      <td>0</td>\n",
       "      <td>1</td>\n",
       "      <td>0</td>\n",
       "      <td>9</td>\n",
       "      <td>6</td>\n",
       "      <td>7</td>\n",
       "      <td>1624560077188</td>\n",
       "      <td>red</td>\n",
       "      <td>NA1_3954960882</td>\n",
       "    </tr>\n",
       "  </tbody>\n",
       "</table>\n",
       "<p>5 rows × 35 columns</p>\n",
       "</div>"
      ],
      "text/plain": [
       "   blue_gold  blue_cs  blue_jg  blue_xp  red_gold  red_cs  red_jg  red_xp  \\\n",
       "0      25691      250       72    27821     19835     231      59   24814   \n",
       "1      25076      262       69    25826     28182     257      55   29093   \n",
       "2      20127      246       64    26263     26342     268      97   29256   \n",
       "3      26113      237       84    29261     25074     238      68   29710   \n",
       "4      23854      243       70    26088     24050     291      90   29026   \n",
       "\n",
       "   blue_wards_placed  blue_wards_destroyed  ...  red_water_dragons  \\\n",
       "0                 28                     2  ...                  0   \n",
       "1                 22                     4  ...                  0   \n",
       "2                 20                     2  ...                  1   \n",
       "3                 18                     2  ...                  0   \n",
       "4                 21                     3  ...                  0   \n",
       "\n",
       "   red_turrets_destroyed  red_rift_heralds  red_inhibitors_destroyed  \\\n",
       "0                      0                 0                         0   \n",
       "1                      2                 1                         0   \n",
       "2                      1                 1                         0   \n",
       "3                      0                 0                         0   \n",
       "4                      0                 1                         0   \n",
       "\n",
       "   red_kills  red_assists  red_deaths      unix_date  winner        match_id  \n",
       "0          6            4          13  1634867567884    blue  NA1_4078001101  \n",
       "1         19           14          17  1636825025208    blue  NA1_4101915154  \n",
       "2         14           10           5  1634820716873     red  NA1_4077583193  \n",
       "3         15           13          15  1624056777808    blue  NA1_3948304495  \n",
       "4          9            6           7  1624560077188     red  NA1_3954960882  \n",
       "\n",
       "[5 rows x 35 columns]"
      ]
     },
     "execution_count": 36,
     "metadata": {},
     "output_type": "execute_result"
    }
   ],
   "source": [
    "df.head(5)"
   ]
  },
  {
   "cell_type": "code",
   "execution_count": 41,
   "metadata": {},
   "outputs": [],
   "source": [
    "# Seperate target and features\n",
    "prep_df = df.drop(['red_kills', 'red_deaths', 'winner', 'match_id'], axis=1)\n",
    "target = df['winner']"
   ]
  },
  {
   "cell_type": "markdown",
   "metadata": {},
   "source": [
    "### Standardize values"
   ]
  },
  {
   "cell_type": "code",
   "execution_count": 42,
   "metadata": {},
   "outputs": [],
   "source": [
    "min_max_scalar = MinMaxScaler()"
   ]
  },
  {
   "cell_type": "code",
   "execution_count": 43,
   "metadata": {},
   "outputs": [],
   "source": [
    "X = min_max_scalar.fit_transform(prep_df)"
   ]
  },
  {
   "cell_type": "code",
   "execution_count": 44,
   "metadata": {},
   "outputs": [],
   "source": [
    "random_state=101"
   ]
  },
  {
   "cell_type": "code",
   "execution_count": 45,
   "metadata": {},
   "outputs": [],
   "source": [
    "X_train, X_test, y_train, y_test = train_test_split(X, target, test_size=0.25, random_state=random_state)"
   ]
  },
  {
   "cell_type": "markdown",
   "metadata": {},
   "source": [
    "## Logistic Regression CV"
   ]
  },
  {
   "cell_type": "code",
   "execution_count": 46,
   "metadata": {},
   "outputs": [
    {
     "name": "stdout",
     "output_type": "stream",
     "text": [
      "              precision    recall  f1-score   support\n",
      "\n",
      "        blue       0.77      0.77      0.77      3120\n",
      "         red       0.77      0.77      0.77      3059\n",
      "\n",
      "    accuracy                           0.77      6179\n",
      "   macro avg       0.77      0.77      0.77      6179\n",
      "weighted avg       0.77      0.77      0.77      6179\n",
      "\n"
     ]
    }
   ],
   "source": [
    "logm = LogisticRegressionCV(cv=5, random_state=random_state, max_iter=4000)\n",
    "logm.fit(X_train, y_train)\n",
    "predictions = logm.predict(X_test)\n",
    "print(classification_report(y_test, predictions))"
   ]
  },
  {
   "cell_type": "markdown",
   "metadata": {},
   "source": [
    "## Support Vector Classifier"
   ]
  },
  {
   "cell_type": "code",
   "execution_count": 63,
   "metadata": {},
   "outputs": [
    {
     "name": "stdout",
     "output_type": "stream",
     "text": [
      "              precision    recall  f1-score   support\n",
      "\n",
      "        blue       0.77      0.78      0.77      3120\n",
      "         red       0.77      0.76      0.76      3059\n",
      "\n",
      "    accuracy                           0.77      6179\n",
      "   macro avg       0.77      0.77      0.77      6179\n",
      "weighted avg       0.77      0.77      0.77      6179\n",
      "\n"
     ]
    }
   ],
   "source": [
    "svm = SVC(random_state=random_state, probability=True)\n",
    "svm.fit(X_train, y_train)\n",
    "predictions = svm.predict(X_test)\n",
    "print(classification_report(y_test, predictions))"
   ]
  },
  {
   "cell_type": "markdown",
   "metadata": {},
   "source": [
    "## KNN With GridSearch"
   ]
  },
  {
   "cell_type": "code",
   "execution_count": 48,
   "metadata": {},
   "outputs": [
    {
     "name": "stdout",
     "output_type": "stream",
     "text": [
      "Fitting 3 folds for each of 16 candidates, totalling 48 fits\n",
      "{'metric': 'manhattan', 'n_neighbors': 19, 'weights': 'distance'}\n",
      "              precision    recall  f1-score   support\n",
      "\n",
      "        blue       0.76      0.78      0.77      3120\n",
      "         red       0.77      0.75      0.76      3059\n",
      "\n",
      "    accuracy                           0.76      6179\n",
      "   macro avg       0.76      0.76      0.76      6179\n",
      "weighted avg       0.76      0.76      0.76      6179\n",
      "\n"
     ]
    }
   ],
   "source": [
    "knn_grid_params = {\n",
    "    'n_neighbors': [3, 5, 11, 19],\n",
    "    'weights': ['uniform', 'distance'],\n",
    "    'metric': ['euclidean', 'manhattan']\n",
    "}\n",
    "knn = KNeighborsClassifier()\n",
    "knn_gs = GridSearchCV(knn, knn_grid_params, verbose=1, cv=3)\n",
    "knn_gs.fit(X_train, y_train)\n",
    "print(knn_gs.best_params_)\n",
    "predictions = knn_gs.predict(X_test)\n",
    "print(classification_report(y_test, predictions))"
   ]
  },
  {
   "cell_type": "markdown",
   "metadata": {},
   "source": [
    "## Gaussian Naive Bayes"
   ]
  },
  {
   "cell_type": "code",
   "execution_count": 49,
   "metadata": {},
   "outputs": [
    {
     "name": "stdout",
     "output_type": "stream",
     "text": [
      "              precision    recall  f1-score   support\n",
      "\n",
      "        blue       0.64      0.94      0.76      3120\n",
      "         red       0.88      0.47      0.61      3059\n",
      "\n",
      "    accuracy                           0.71      6179\n",
      "   macro avg       0.76      0.70      0.69      6179\n",
      "weighted avg       0.76      0.71      0.69      6179\n",
      "\n"
     ]
    }
   ],
   "source": [
    "gnb = GaussianNB()\n",
    "gnb.fit(X_train, y_train)\n",
    "predictions = gnb.predict(X_test)\n",
    "print(classification_report(y_test, predictions))"
   ]
  },
  {
   "cell_type": "markdown",
   "metadata": {},
   "source": [
    "## Random Forest Classification"
   ]
  },
  {
   "cell_type": "code",
   "execution_count": 50,
   "metadata": {},
   "outputs": [
    {
     "name": "stdout",
     "output_type": "stream",
     "text": [
      "Fitting 3 folds for each of 54 candidates, totalling 162 fits\n",
      "{'criterion': 'entropy', 'max_features': 'log2', 'min_samples_split': 6, 'n_estimators': 100}\n",
      "              precision    recall  f1-score   support\n",
      "\n",
      "        blue       0.78      0.79      0.78      3120\n",
      "         red       0.78      0.78      0.78      3059\n",
      "\n",
      "    accuracy                           0.78      6179\n",
      "   macro avg       0.78      0.78      0.78      6179\n",
      "weighted avg       0.78      0.78      0.78      6179\n",
      "\n"
     ]
    }
   ],
   "source": [
    "rf_grid_params = {\n",
    "    'n_estimators': [10, 50, 100],\n",
    "    'criterion': ['gini', 'entropy'],\n",
    "    'min_samples_split': [2, 4, 6],\n",
    "    'max_features': ['auto', 'sqrt', 'log2']\n",
    "}\n",
    "rf = RandomForestClassifier(random_state=random_state, n_jobs=-1)\n",
    "rf_gs = GridSearchCV(rf, rf_grid_params, verbose=1, cv=3)\n",
    "rf_gs.fit(X_train, y_train)\n",
    "print(rf_gs.best_params_)\n",
    "predictions = rf_gs.predict(X_test)\n",
    "print(classification_report(y_test, predictions))"
   ]
  },
  {
   "cell_type": "markdown",
   "metadata": {},
   "source": [
    "## ExtraTrees Classifier"
   ]
  },
  {
   "cell_type": "code",
   "execution_count": 51,
   "metadata": {},
   "outputs": [
    {
     "name": "stdout",
     "output_type": "stream",
     "text": [
      "Fitting 3 folds for each of 54 candidates, totalling 162 fits\n",
      "{'criterion': 'gini', 'max_features': 'log2', 'min_samples_split': 6, 'n_estimators': 100}\n",
      "              precision    recall  f1-score   support\n",
      "\n",
      "        blue       0.78      0.80      0.79      3120\n",
      "         red       0.79      0.77      0.78      3059\n",
      "\n",
      "    accuracy                           0.78      6179\n",
      "   macro avg       0.78      0.78      0.78      6179\n",
      "weighted avg       0.78      0.78      0.78      6179\n",
      "\n"
     ]
    }
   ],
   "source": [
    "et_grid_params = {\n",
    "    'n_estimators': [10, 50, 100],\n",
    "    'criterion': ['gini', 'entropy'],\n",
    "    'min_samples_split': [2, 4, 6],\n",
    "    'max_features': ['auto', 'sqrt', 'log2']\n",
    "}\n",
    "et = ExtraTreesClassifier(random_state=random_state)\n",
    "et_gs = GridSearchCV(et, et_grid_params, verbose=1, cv=3, n_jobs=-1)\n",
    "et_gs.fit(X_train, y_train)\n",
    "print(et_gs.best_params_)\n",
    "predictions = et_gs.predict(X_test)\n",
    "print(classification_report(y_test, predictions))"
   ]
  },
  {
   "cell_type": "markdown",
   "metadata": {},
   "source": [
    "## AdaBoost Classifier"
   ]
  },
  {
   "cell_type": "code",
   "execution_count": 52,
   "metadata": {},
   "outputs": [
    {
     "name": "stdout",
     "output_type": "stream",
     "text": [
      "Fitting 3 folds for each of 15 candidates, totalling 45 fits\n",
      "{'learning_rate': 1.0, 'n_estimators': 100}\n",
      "              precision    recall  f1-score   support\n",
      "\n",
      "        blue       0.77      0.77      0.77      3120\n",
      "         red       0.77      0.77      0.77      3059\n",
      "\n",
      "    accuracy                           0.77      6179\n",
      "   macro avg       0.77      0.77      0.77      6179\n",
      "weighted avg       0.77      0.77      0.77      6179\n",
      "\n"
     ]
    }
   ],
   "source": [
    "ada_grid_params = {\n",
    "    'n_estimators': [10, 50, 100],\n",
    "    'learning_rate': [0.9, 0.95, 1.0, 1.05, 1.1]\n",
    "}\n",
    "ada = AdaBoostClassifier(random_state=random_state)\n",
    "ada_gs = GridSearchCV(ada, ada_grid_params, verbose=1, cv=3, n_jobs=-1)\n",
    "ada_gs.fit(X_train, y_train)\n",
    "print(ada_gs.best_params_)\n",
    "predictions = ada_gs.predict(X_test)\n",
    "print(classification_report(y_test, predictions))"
   ]
  },
  {
   "cell_type": "markdown",
   "metadata": {},
   "source": [
    "## Test on never seen data"
   ]
  },
  {
   "cell_type": "code",
   "execution_count": 53,
   "metadata": {},
   "outputs": [
    {
     "data": {
      "text/html": [
       "<div>\n",
       "<style scoped>\n",
       "    .dataframe tbody tr th:only-of-type {\n",
       "        vertical-align: middle;\n",
       "    }\n",
       "\n",
       "    .dataframe tbody tr th {\n",
       "        vertical-align: top;\n",
       "    }\n",
       "\n",
       "    .dataframe thead th {\n",
       "        text-align: right;\n",
       "    }\n",
       "</style>\n",
       "<table border=\"1\" class=\"dataframe\">\n",
       "  <thead>\n",
       "    <tr style=\"text-align: right;\">\n",
       "      <th></th>\n",
       "      <th>blue_gold</th>\n",
       "      <th>blue_cs</th>\n",
       "      <th>blue_jg</th>\n",
       "      <th>blue_xp</th>\n",
       "      <th>red_gold</th>\n",
       "      <th>red_cs</th>\n",
       "      <th>red_jg</th>\n",
       "      <th>red_xp</th>\n",
       "      <th>blue_wards_placed</th>\n",
       "      <th>blue_wards_destroyed</th>\n",
       "      <th>...</th>\n",
       "      <th>red_water_dragons</th>\n",
       "      <th>red_turrets_destroyed</th>\n",
       "      <th>red_rift_heralds</th>\n",
       "      <th>red_inhibitors_destroyed</th>\n",
       "      <th>red_kills</th>\n",
       "      <th>red_assists</th>\n",
       "      <th>red_deaths</th>\n",
       "      <th>unix_date</th>\n",
       "      <th>winner</th>\n",
       "      <th>match_id</th>\n",
       "    </tr>\n",
       "  </thead>\n",
       "  <tbody>\n",
       "    <tr>\n",
       "      <th>0</th>\n",
       "      <td>29378</td>\n",
       "      <td>321</td>\n",
       "      <td>86</td>\n",
       "      <td>29191</td>\n",
       "      <td>31977</td>\n",
       "      <td>341</td>\n",
       "      <td>82</td>\n",
       "      <td>30682</td>\n",
       "      <td>22</td>\n",
       "      <td>5</td>\n",
       "      <td>...</td>\n",
       "      <td>1</td>\n",
       "      <td>3</td>\n",
       "      <td>0</td>\n",
       "      <td>0</td>\n",
       "      <td>17</td>\n",
       "      <td>20</td>\n",
       "      <td>18</td>\n",
       "      <td>1636906161035</td>\n",
       "      <td>red</td>\n",
       "      <td>NA1_4103245629</td>\n",
       "    </tr>\n",
       "    <tr>\n",
       "      <th>1</th>\n",
       "      <td>22683</td>\n",
       "      <td>319</td>\n",
       "      <td>92</td>\n",
       "      <td>28008</td>\n",
       "      <td>25025</td>\n",
       "      <td>358</td>\n",
       "      <td>91</td>\n",
       "      <td>29102</td>\n",
       "      <td>22</td>\n",
       "      <td>7</td>\n",
       "      <td>...</td>\n",
       "      <td>1</td>\n",
       "      <td>0</td>\n",
       "      <td>0</td>\n",
       "      <td>0</td>\n",
       "      <td>9</td>\n",
       "      <td>11</td>\n",
       "      <td>4</td>\n",
       "      <td>1636690592702</td>\n",
       "      <td>red</td>\n",
       "      <td>NA1_4100420501</td>\n",
       "    </tr>\n",
       "    <tr>\n",
       "      <th>2</th>\n",
       "      <td>26020</td>\n",
       "      <td>333</td>\n",
       "      <td>87</td>\n",
       "      <td>30461</td>\n",
       "      <td>28704</td>\n",
       "      <td>350</td>\n",
       "      <td>87</td>\n",
       "      <td>32157</td>\n",
       "      <td>27</td>\n",
       "      <td>5</td>\n",
       "      <td>...</td>\n",
       "      <td>1</td>\n",
       "      <td>1</td>\n",
       "      <td>1</td>\n",
       "      <td>0</td>\n",
       "      <td>14</td>\n",
       "      <td>11</td>\n",
       "      <td>11</td>\n",
       "      <td>1636752227931</td>\n",
       "      <td>red</td>\n",
       "      <td>NA1_4101034253</td>\n",
       "    </tr>\n",
       "  </tbody>\n",
       "</table>\n",
       "<p>3 rows × 35 columns</p>\n",
       "</div>"
      ],
      "text/plain": [
       "   blue_gold  blue_cs  blue_jg  blue_xp  red_gold  red_cs  red_jg  red_xp  \\\n",
       "0      29378      321       86    29191     31977     341      82   30682   \n",
       "1      22683      319       92    28008     25025     358      91   29102   \n",
       "2      26020      333       87    30461     28704     350      87   32157   \n",
       "\n",
       "   blue_wards_placed  blue_wards_destroyed  ...  red_water_dragons  \\\n",
       "0                 22                     5  ...                  1   \n",
       "1                 22                     7  ...                  1   \n",
       "2                 27                     5  ...                  1   \n",
       "\n",
       "   red_turrets_destroyed  red_rift_heralds  red_inhibitors_destroyed  \\\n",
       "0                      3                 0                         0   \n",
       "1                      0                 0                         0   \n",
       "2                      1                 1                         0   \n",
       "\n",
       "   red_kills  red_assists  red_deaths      unix_date  winner        match_id  \n",
       "0         17           20          18  1636906161035     red  NA1_4103245629  \n",
       "1          9           11           4  1636690592702     red  NA1_4100420501  \n",
       "2         14           11          11  1636752227931     red  NA1_4101034253  \n",
       "\n",
       "[3 rows x 35 columns]"
      ]
     },
     "execution_count": 53,
     "metadata": {},
     "output_type": "execute_result"
    }
   ],
   "source": [
    "testing_df.head()"
   ]
  },
  {
   "cell_type": "code",
   "execution_count": 55,
   "metadata": {},
   "outputs": [],
   "source": [
    "testing_X = testing_df.drop(['red_kills', 'red_deaths', 'winner', 'match_id'], axis=1)\n",
    "testing_y = testing_df['winner']\n",
    "testing_X = min_max_scalar.fit_transform(testing_X)"
   ]
  },
  {
   "cell_type": "markdown",
   "metadata": {},
   "source": [
    "## Logsistic Classifier"
   ]
  },
  {
   "cell_type": "code",
   "execution_count": 66,
   "metadata": {},
   "outputs": [
    {
     "name": "stdout",
     "output_type": "stream",
     "text": [
      "['red' 'blue' 'red']\n",
      "[[0.20412106 0.79587894]\n",
      " [0.72426509 0.27573491]\n",
      " [0.23395558 0.76604442]]\n",
      "0    red\n",
      "1    red\n",
      "2    red\n",
      "Name: winner, dtype: object\n"
     ]
    }
   ],
   "source": [
    "log_predictions = logm.predict(testing_X)\n",
    "log_probs = logm.predict_proba(testing_X)\n",
    "print(log_predictions)\n",
    "print(log_probs)\n",
    "print(testing_y)"
   ]
  },
  {
   "cell_type": "markdown",
   "metadata": {},
   "source": [
    "## KNN classifier"
   ]
  },
  {
   "cell_type": "code",
   "execution_count": 61,
   "metadata": {},
   "outputs": [
    {
     "name": "stdout",
     "output_type": "stream",
     "text": [
      "['red' 'blue' 'red']\n",
      "[[0.20458665 0.79541335]\n",
      " [0.63189446 0.36810554]\n",
      " [0.15869057 0.84130943]]\n",
      "0    red\n",
      "1    red\n",
      "2    red\n",
      "Name: winner, dtype: object\n"
     ]
    }
   ],
   "source": [
    "knn_predictions = knn_gs.predict(testing_X)\n",
    "knn_probs = knn_gs.predict_proba(testing_X)\n",
    "print(knn_predictions)\n",
    "print(knn_probs)\n",
    "print(testing_y)"
   ]
  },
  {
   "cell_type": "markdown",
   "metadata": {},
   "source": [
    "## SVC"
   ]
  },
  {
   "cell_type": "code",
   "execution_count": 64,
   "metadata": {},
   "outputs": [
    {
     "name": "stdout",
     "output_type": "stream",
     "text": [
      "['red' 'blue' 'red']\n",
      "[[0.39273784 0.60726216]\n",
      " [0.52643437 0.47356563]\n",
      " [0.29678455 0.70321545]]\n",
      "0    red\n",
      "1    red\n",
      "2    red\n",
      "Name: winner, dtype: object\n"
     ]
    }
   ],
   "source": [
    "svc_predictions = svm.predict(testing_X)\n",
    "svc_probs = svm.predict_proba(testing_X)\n",
    "print(svc_predictions)\n",
    "print(svc_probs)\n",
    "print(testing_y)"
   ]
  },
  {
   "cell_type": "markdown",
   "metadata": {},
   "source": [
    "## Random Forest"
   ]
  },
  {
   "cell_type": "code",
   "execution_count": 65,
   "metadata": {},
   "outputs": [
    {
     "name": "stdout",
     "output_type": "stream",
     "text": [
      "['blue' 'red' 'red']\n",
      "[[0.56036111 0.43963889]\n",
      " [0.39666667 0.60333333]\n",
      " [0.47933333 0.52066667]]\n",
      "0    red\n",
      "1    red\n",
      "2    red\n",
      "Name: winner, dtype: object\n"
     ]
    }
   ],
   "source": [
    "rf_predictions = rf_gs.predict(testing_X)\n",
    "rf_probs = rf_gs.predict_proba(testing_X)\n",
    "print(rf_predictions)\n",
    "print(rf_probs)\n",
    "print(testing_y)"
   ]
  },
  {
   "cell_type": "markdown",
   "metadata": {},
   "source": [
    "## Naive Bayes"
   ]
  },
  {
   "cell_type": "code",
   "execution_count": 67,
   "metadata": {},
   "outputs": [
    {
     "name": "stdout",
     "output_type": "stream",
     "text": [
      "['red' 'blue' 'red']\n",
      "[[1.08347897e-30 1.00000000e+00]\n",
      " [8.60173122e-01 1.39826878e-01]\n",
      " [4.15523406e-10 1.00000000e+00]]\n",
      "0    red\n",
      "1    red\n",
      "2    red\n",
      "Name: winner, dtype: object\n"
     ]
    }
   ],
   "source": [
    "gnb_predictions = gnb.predict(testing_X)\n",
    "gnb_probs = gnb.predict_proba(testing_X)\n",
    "print(gnb_predictions)\n",
    "print(gnb_probs)\n",
    "print(testing_y)"
   ]
  },
  {
   "cell_type": "markdown",
   "metadata": {},
   "source": [
    "## ExtraTree Classifier"
   ]
  },
  {
   "cell_type": "code",
   "execution_count": 68,
   "metadata": {},
   "outputs": [
    {
     "name": "stdout",
     "output_type": "stream",
     "text": [
      "['red' 'red' 'red']\n",
      "[[0.41733333 0.58266667]\n",
      " [0.42683333 0.57316667]\n",
      " [0.36116667 0.63883333]]\n",
      "0    red\n",
      "1    red\n",
      "2    red\n",
      "Name: winner, dtype: object\n"
     ]
    }
   ],
   "source": [
    "et_predictions = et_gs.predict(testing_X)\n",
    "et_probs = et_gs.predict_proba(testing_X)\n",
    "print(et_predictions)\n",
    "print(et_probs)\n",
    "print(testing_y)"
   ]
  },
  {
   "cell_type": "markdown",
   "metadata": {},
   "source": [
    "## Adaboost Classifier"
   ]
  },
  {
   "cell_type": "code",
   "execution_count": 69,
   "metadata": {},
   "outputs": [
    {
     "name": "stdout",
     "output_type": "stream",
     "text": [
      "['red' 'blue' 'red']\n",
      "[[0.39556037 0.60443963]\n",
      " [0.50148457 0.49851543]\n",
      " [0.49621819 0.50378181]]\n",
      "0    red\n",
      "1    red\n",
      "2    red\n",
      "Name: winner, dtype: object\n"
     ]
    }
   ],
   "source": [
    "ada_predictions = ada_gs.predict(testing_X)\n",
    "ada_probs = ada_gs.predict_proba(testing_X)\n",
    "print(ada_predictions)\n",
    "print(ada_probs)\n",
    "print(testing_y)"
   ]
  },
  {
   "cell_type": "markdown",
   "metadata": {},
   "source": [
    "## Conclusion\n",
    "Seems like our Extra tree regressor performed well on our initial test set and also on our random test. So I'm going to save that model for use later."
   ]
  },
  {
   "cell_type": "code",
   "execution_count": 70,
   "metadata": {},
   "outputs": [],
   "source": [
    "import pickle"
   ]
  },
  {
   "cell_type": "code",
   "execution_count": 71,
   "metadata": {},
   "outputs": [],
   "source": [
    "ROOT_PATH = str(Path(getcwd()).parents[0])\n",
    "MODELS_LOC = ROOT_PATH + '/static/models'"
   ]
  },
  {
   "cell_type": "code",
   "execution_count": 74,
   "metadata": {},
   "outputs": [],
   "source": [
    "with open(MODELS_LOC+\"/extratree_112821.pkl\", 'wb') as f:\n",
    "    pickle.dump(et_gs.best_estimator_, f)"
   ]
  },
  {
   "cell_type": "code",
   "execution_count": null,
   "metadata": {},
   "outputs": [],
   "source": []
  }
 ],
 "metadata": {
  "kernelspec": {
   "display_name": "Python 3",
   "language": "python",
   "name": "python3"
  },
  "language_info": {
   "codemirror_mode": {
    "name": "ipython",
    "version": 3
   },
   "file_extension": ".py",
   "mimetype": "text/x-python",
   "name": "python",
   "nbconvert_exporter": "python",
   "pygments_lexer": "ipython3",
   "version": "3.9.5"
  }
 },
 "nbformat": 4,
 "nbformat_minor": 4
}
